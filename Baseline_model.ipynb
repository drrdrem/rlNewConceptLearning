{
 "cells": [
  {
   "cell_type": "code",
   "execution_count": 1,
   "metadata": {},
   "outputs": [],
   "source": [
    "import numpy as np\n",
    "import pandas as pd\n",
    "\n",
    "from baseline.torch.mydataset import CustomDataset\n",
    "from baseline.torch.model import CNN_Text\n",
    "from baseline.torch.train import train, predict_prob, run\n",
    "\n",
    "import torch\n",
    "from torchtext import data\n",
    "import time\n",
    "from tqdm import tqdm"
   ]
  },
  {
   "cell_type": "markdown",
   "metadata": {},
   "source": [
    "# load data"
   ]
  },
  {
   "cell_type": "code",
   "execution_count": 2,
   "metadata": {},
   "outputs": [],
   "source": [
    "data_root = './data/'"
   ]
  },
  {
   "cell_type": "code",
   "execution_count": 3,
   "metadata": {},
   "outputs": [
    {
     "data": {
      "text/plain": [
       "13"
      ]
     },
     "execution_count": 3,
     "metadata": {},
     "output_type": "execute_result"
    }
   ],
   "source": [
    "drugs = ['trametinib',\n",
    "         'fulvestrant',\n",
    "         'lovastatin',\n",
    "         'abiraterone',\n",
    "         'thalidomide',\n",
    "         'sirolimus',\n",
    "         'simvastatin',\n",
    "         'methotrexate',\n",
    "         'bortezomib',\n",
    "         'gemcitabine',\n",
    "         'tamoxifen',\n",
    "         'dexamethasone',\n",
    "         'doxorubicin']\n",
    "len(drugs)"
   ]
  },
  {
   "cell_type": "code",
   "execution_count": 4,
   "metadata": {},
   "outputs": [
    {
     "data": {
      "text/html": [
       "<div>\n",
       "<style scoped>\n",
       "    .dataframe tbody tr th:only-of-type {\n",
       "        vertical-align: middle;\n",
       "    }\n",
       "\n",
       "    .dataframe tbody tr th {\n",
       "        vertical-align: top;\n",
       "    }\n",
       "\n",
       "    .dataframe thead th {\n",
       "        text-align: right;\n",
       "    }\n",
       "</style>\n",
       "<table border=\"1\" class=\"dataframe\">\n",
       "  <thead>\n",
       "    <tr style=\"text-align: right;\">\n",
       "      <th></th>\n",
       "      <th>drug</th>\n",
       "      <th>file</th>\n",
       "      <th>lab</th>\n",
       "      <th>comment</th>\n",
       "    </tr>\n",
       "  </thead>\n",
       "  <tbody>\n",
       "    <tr>\n",
       "      <th>0</th>\n",
       "      <td>tamoxifen</td>\n",
       "      <td>PMC003XXXXXX.xml\\PMC0030XXXXX\\PMC3000794.xml</td>\n",
       "      <td>0</td>\n",
       "      <td>none</td>\n",
       "    </tr>\n",
       "    <tr>\n",
       "      <th>1</th>\n",
       "      <td>tamoxifen</td>\n",
       "      <td>PMC003XXXXXX.xml\\PMC0030XXXXX\\PMC3005955.xml</td>\n",
       "      <td>0</td>\n",
       "      <td>none</td>\n",
       "    </tr>\n",
       "    <tr>\n",
       "      <th>2</th>\n",
       "      <td>tamoxifen</td>\n",
       "      <td>PMC003XXXXXX.xml\\PMC0030XXXXX\\PMC3010527.xml</td>\n",
       "      <td>0</td>\n",
       "      <td>none</td>\n",
       "    </tr>\n",
       "    <tr>\n",
       "      <th>3</th>\n",
       "      <td>tamoxifen</td>\n",
       "      <td>PMC003XXXXXX.xml\\PMC0030XXXXX\\PMC3011858.xml</td>\n",
       "      <td>0</td>\n",
       "      <td>none</td>\n",
       "    </tr>\n",
       "    <tr>\n",
       "      <th>4</th>\n",
       "      <td>tamoxifen</td>\n",
       "      <td>PMC003XXXXXX.xml\\PMC0030XXXXX\\PMC3014261.xml</td>\n",
       "      <td>0</td>\n",
       "      <td>none</td>\n",
       "    </tr>\n",
       "  </tbody>\n",
       "</table>\n",
       "</div>"
      ],
      "text/plain": [
       "        drug                                          file  lab comment\n",
       "0  tamoxifen  PMC003XXXXXX.xml\\PMC0030XXXXX\\PMC3000794.xml    0    none\n",
       "1  tamoxifen  PMC003XXXXXX.xml\\PMC0030XXXXX\\PMC3005955.xml    0    none\n",
       "2  tamoxifen  PMC003XXXXXX.xml\\PMC0030XXXXX\\PMC3010527.xml    0    none\n",
       "3  tamoxifen  PMC003XXXXXX.xml\\PMC0030XXXXX\\PMC3011858.xml    0    none\n",
       "4  tamoxifen  PMC003XXXXXX.xml\\PMC0030XXXXX\\PMC3014261.xml    0    none"
      ]
     },
     "execution_count": 4,
     "metadata": {},
     "output_type": "execute_result"
    }
   ],
   "source": [
    "alllab_df = pd.read_csv(data_root+'lab_finfin.csv')\n",
    "alllab_df.head()"
   ]
  },
  {
   "cell_type": "code",
   "execution_count": 5,
   "metadata": {},
   "outputs": [
    {
     "data": {
      "text/html": [
       "<div>\n",
       "<style scoped>\n",
       "    .dataframe tbody tr th:only-of-type {\n",
       "        vertical-align: middle;\n",
       "    }\n",
       "\n",
       "    .dataframe tbody tr th {\n",
       "        vertical-align: top;\n",
       "    }\n",
       "\n",
       "    .dataframe thead th {\n",
       "        text-align: right;\n",
       "    }\n",
       "</style>\n",
       "<table border=\"1\" class=\"dataframe\">\n",
       "  <thead>\n",
       "    <tr style=\"text-align: right;\">\n",
       "      <th></th>\n",
       "      <th>file</th>\n",
       "      <th>title</th>\n",
       "      <th>abstract</th>\n",
       "    </tr>\n",
       "  </thead>\n",
       "  <tbody>\n",
       "    <tr>\n",
       "      <th>0</th>\n",
       "      <td>PMC003XXXXXX.xml\\PMC0030XXXXX\\PMC3000794.xml</td>\n",
       "      <td>erk1 2 dependent vascular endothelial growth f...</td>\n",
       "      <td>background amp aims severe polycystic liver di...</td>\n",
       "    </tr>\n",
       "    <tr>\n",
       "      <th>1</th>\n",
       "      <td>PMC003XXXXXX.xml\\PMC0030XXXXX\\PMC3001231.xml</td>\n",
       "      <td>peg functionalized magnetic nanoparticles for ...</td>\n",
       "      <td>purpose polyethylene glycol ( peg ) functional...</td>\n",
       "    </tr>\n",
       "    <tr>\n",
       "      <th>2</th>\n",
       "      <td>PMC003XXXXXX.xml\\PMC0030XXXXX\\PMC3003872.xml</td>\n",
       "      <td>combination testing \\( stage 2 \\) of rapamycin...</td>\n",
       "      <td>purpose rapamycin demonstrated broad spectrum ...</td>\n",
       "    </tr>\n",
       "    <tr>\n",
       "      <th>3</th>\n",
       "      <td>PMC003XXXXXX.xml\\PMC0030XXXXX\\PMC3004744.xml</td>\n",
       "      <td>durable responses with the metronomic regimen ...</td>\n",
       "      <td>background targeting the tumor microenvironmen...</td>\n",
       "    </tr>\n",
       "    <tr>\n",
       "      <th>4</th>\n",
       "      <td>PMC003XXXXXX.xml\\PMC0030XXXXX\\PMC3005850.xml</td>\n",
       "      <td>ph sensitive ionomeric particles obtained via ...</td>\n",
       "      <td>silk fibroin based biomaterials have been wide...</td>\n",
       "    </tr>\n",
       "  </tbody>\n",
       "</table>\n",
       "</div>"
      ],
      "text/plain": [
       "                                           file  \\\n",
       "0  PMC003XXXXXX.xml\\PMC0030XXXXX\\PMC3000794.xml   \n",
       "1  PMC003XXXXXX.xml\\PMC0030XXXXX\\PMC3001231.xml   \n",
       "2  PMC003XXXXXX.xml\\PMC0030XXXXX\\PMC3003872.xml   \n",
       "3  PMC003XXXXXX.xml\\PMC0030XXXXX\\PMC3004744.xml   \n",
       "4  PMC003XXXXXX.xml\\PMC0030XXXXX\\PMC3005850.xml   \n",
       "\n",
       "                                               title  \\\n",
       "0  erk1 2 dependent vascular endothelial growth f...   \n",
       "1  peg functionalized magnetic nanoparticles for ...   \n",
       "2  combination testing \\( stage 2 \\) of rapamycin...   \n",
       "3  durable responses with the metronomic regimen ...   \n",
       "4  ph sensitive ionomeric particles obtained via ...   \n",
       "\n",
       "                                            abstract  \n",
       "0  background amp aims severe polycystic liver di...  \n",
       "1  purpose polyethylene glycol ( peg ) functional...  \n",
       "2  purpose rapamycin demonstrated broad spectrum ...  \n",
       "3  background targeting the tumor microenvironmen...  \n",
       "4  silk fibroin based biomaterials have been wide...  "
      ]
     },
     "execution_count": 5,
     "metadata": {},
     "output_type": "execute_result"
    }
   ],
   "source": [
    "allfea_df = pd.read_csv(data_root+'fea_finfin.csv')\n",
    "allfea_df.head()"
   ]
  },
  {
   "cell_type": "code",
   "execution_count": 6,
   "metadata": {},
   "outputs": [],
   "source": [
    "train_lab_df = alllab_df[alllab_df['drug'].isin(drugs[:8])].reset_index(drop=True)\n",
    "test_lab_df = alllab_df[alllab_df['drug'].isin(drugs[8:])].reset_index(drop=True)"
   ]
  },
  {
   "cell_type": "code",
   "execution_count": 7,
   "metadata": {},
   "outputs": [],
   "source": [
    "len_0 = len(train_lab_df[train_lab_df['lab']==0])\n",
    "len_1 = len(train_lab_df[train_lab_df['lab']==1])\n",
    "ratio = (len_0 - len_1)/len_1"
   ]
  },
  {
   "cell_type": "code",
   "execution_count": 8,
   "metadata": {},
   "outputs": [],
   "source": [
    "train_lab_df_tmp = train_lab_df\n",
    "for _ in range(int(ratio)):\n",
    "    train_lab_df_tmp = pd.concat([train_lab_df_tmp, train_lab_df[train_lab_df['lab']==1]], ignore_index=True)\n",
    "train_lab_df =  train_lab_df_tmp"
   ]
  },
  {
   "cell_type": "code",
   "execution_count": 9,
   "metadata": {},
   "outputs": [
    {
     "data": {
      "text/plain": [
       "(847, 828)"
      ]
     },
     "execution_count": 9,
     "metadata": {},
     "output_type": "execute_result"
    }
   ],
   "source": [
    "len(train_lab_df[train_lab_df['lab']==0]), len(train_lab_df[train_lab_df['lab']==1])"
   ]
  },
  {
   "cell_type": "markdown",
   "metadata": {},
   "source": [
    "# Build Vocabulary"
   ]
  },
  {
   "cell_type": "code",
   "execution_count": 10,
   "metadata": {},
   "outputs": [
    {
     "name": "stderr",
     "output_type": "stream",
     "text": [
      "  3%|▎         | 53/1675 [00:00<00:03, 528.09it/s]"
     ]
    },
    {
     "name": "stdout",
     "output_type": "stream",
     "text": [
      "preparing examples...\n"
     ]
    },
    {
     "name": "stderr",
     "output_type": "stream",
     "text": [
      "100%|██████████| 1675/1675 [00:02<00:00, 637.45it/s]\n",
      "  4%|▎         | 99/2681 [00:00<00:05, 484.99it/s]"
     ]
    },
    {
     "name": "stdout",
     "output_type": "stream",
     "text": [
      "dev_index:  -167\n",
      "preparing examples...\n"
     ]
    },
    {
     "name": "stderr",
     "output_type": "stream",
     "text": [
      "100%|██████████| 2681/2681 [00:04<00:00, 617.91it/s]"
     ]
    },
    {
     "name": "stdout",
     "output_type": "stream",
     "text": [
      "Time elapse (min):  0.1164683977762858\n"
     ]
    },
    {
     "name": "stderr",
     "output_type": "stream",
     "text": [
      "\n"
     ]
    }
   ],
   "source": [
    "start_t = time.time()\n",
    "\n",
    "text_field = data.Field(lower=True) # Text field\n",
    "label_field = data.Field(sequential=False) # Label field\n",
    "\n",
    "train_data, dev_data = CustomDataset.splits(text_field, label_field, train_lab_df, allfea_df, shuffle=True)\n",
    "test_data = CustomDataset(text_field, label_field, test_lab_df, allfea_df)\n",
    "\n",
    "end_t = time.time()-start_t\n",
    "print(\"Time elapse (min): \", end_t/60)"
   ]
  },
  {
   "cell_type": "code",
   "execution_count": 11,
   "metadata": {},
   "outputs": [],
   "source": [
    "batch_size = 32\n",
    "text_field.build_vocab(train_data, dev_data, test_data)\n",
    "label_field.build_vocab(train_data, dev_data, test_data)\n",
    "train_iter, dev_iter = data.Iterator.splits((train_data, dev_data), \n",
    "                                            batch_sizes=(batch_size, len(dev_data)))"
   ]
  },
  {
   "cell_type": "markdown",
   "metadata": {},
   "source": [
    "# Run the Baseline Model"
   ]
  },
  {
   "cell_type": "code",
   "execution_count": 12,
   "metadata": {},
   "outputs": [],
   "source": [
    "fields = [('text', text_field), ('label', label_field)]"
   ]
  },
  {
   "cell_type": "code",
   "execution_count": 13,
   "metadata": {},
   "outputs": [],
   "source": [
    "model_dir_root = './trained_models/'"
   ]
  },
  {
   "cell_type": "code",
   "execution_count": 14,
   "metadata": {},
   "outputs": [
    {
     "name": "stderr",
     "output_type": "stream",
     "text": [
      "  5%|▌         | 19/371 [00:00<00:01, 189.94it/s]"
     ]
    },
    {
     "name": "stdout",
     "output_type": "stream",
     "text": [
      "########################\n",
      "#### drug bortezomib\n"
     ]
    },
    {
     "name": "stderr",
     "output_type": "stream",
     "text": [
      "100%|██████████| 371/371 [00:01<00:00, 233.22it/s]\n",
      "  6%|▌         | 25/415 [00:00<00:01, 244.98it/s]"
     ]
    },
    {
     "name": "stdout",
     "output_type": "stream",
     "text": [
      "The first paper is PMC004XXXXXX.xml\\PMC0042XXXXX\\PMC4266584.xml\n",
      "Number of papers be read of drug [bortezomib]: 119\n",
      "########################\n",
      "#### drug gemcitabine\n"
     ]
    },
    {
     "name": "stderr",
     "output_type": "stream",
     "text": [
      "100%|██████████| 415/415 [00:01<00:00, 233.58it/s]\n",
      "  5%|▍         | 25/526 [00:00<00:02, 247.71it/s]"
     ]
    },
    {
     "name": "stdout",
     "output_type": "stream",
     "text": [
      "The first paper is PMC004XXXXXX.xml\\PMC0048XXXXX\\PMC4873426.xml\n",
      "Number of papers be read of drug [gemcitabine]: 5\n",
      "########################\n",
      "#### drug tamoxifen\n"
     ]
    },
    {
     "name": "stderr",
     "output_type": "stream",
     "text": [
      "100%|██████████| 526/526 [00:02<00:00, 251.51it/s]\n",
      "  5%|▍         | 28/565 [00:00<00:01, 273.84it/s]"
     ]
    },
    {
     "name": "stdout",
     "output_type": "stream",
     "text": [
      "The first paper is PMC003XXXXXX.xml\\PMC0037XXXXX\\PMC3711713.xml\n",
      "Number of papers be read of drug [tamoxifen]: 46\n",
      "########################\n",
      "#### drug dexamethasone\n"
     ]
    },
    {
     "name": "stderr",
     "output_type": "stream",
     "text": [
      "100%|██████████| 565/565 [00:02<00:00, 268.36it/s]\n",
      "  0%|          | 0/804 [00:00<?, ?it/s]"
     ]
    },
    {
     "name": "stdout",
     "output_type": "stream",
     "text": [
      "The first paper is PMC004XXXXXX.xml\\PMC0044XXXXX\\PMC4422178.xml\n",
      "Number of papers be read of drug [dexamethasone]: 141\n",
      "########################\n",
      "#### drug doxorubicin\n"
     ]
    },
    {
     "name": "stderr",
     "output_type": "stream",
     "text": [
      "100%|██████████| 804/804 [00:03<00:00, 267.08it/s]\n"
     ]
    },
    {
     "name": "stdout",
     "output_type": "stream",
     "text": [
      "The first paper is PMC003XXXXXX.xml\\PMC0032XXXXX\\PMC3298037.xml\n",
      "Number of papers be read of drug [doxorubicin]: 384\n"
     ]
    },
    {
     "data": {
      "text/plain": [
       "({'bortezomib': 119,\n",
       "  'gemcitabine': 5,\n",
       "  'tamoxifen': 46,\n",
       "  'dexamethasone': 141,\n",
       "  'doxorubicin': 384},\n",
       " {'bortezomib': 'PMC004XXXXXX.xml\\\\PMC0042XXXXX\\\\PMC4266584.xml',\n",
       "  'gemcitabine': 'PMC004XXXXXX.xml\\\\PMC0048XXXXX\\\\PMC4873426.xml',\n",
       "  'tamoxifen': 'PMC003XXXXXX.xml\\\\PMC0037XXXXX\\\\PMC3711713.xml',\n",
       "  'dexamethasone': 'PMC004XXXXXX.xml\\\\PMC0044XXXXX\\\\PMC4422178.xml',\n",
       "  'doxorubicin': 'PMC003XXXXXX.xml\\\\PMC0032XXXXX\\\\PMC3298037.xml'})"
      ]
     },
     "execution_count": 14,
     "metadata": {},
     "output_type": "execute_result"
    }
   ],
   "source": [
    "run(CNN_Text, model_dir_root+'model_baseline_fin.pkl', drugs[8:], alllab_df, allfea_df, fields)"
   ]
  }
 ],
 "metadata": {
  "kernelspec": {
   "display_name": "nn",
   "language": "python",
   "name": "nn"
  },
  "language_info": {
   "codemirror_mode": {
    "name": "ipython",
    "version": 3
   },
   "file_extension": ".py",
   "mimetype": "text/x-python",
   "name": "python",
   "nbconvert_exporter": "python",
   "pygments_lexer": "ipython3",
   "version": "3.7.7"
  }
 },
 "nbformat": 4,
 "nbformat_minor": 4
}
