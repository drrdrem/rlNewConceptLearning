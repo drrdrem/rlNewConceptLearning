{
 "cells": [
  {
   "cell_type": "code",
   "execution_count": 1,
   "metadata": {},
   "outputs": [],
   "source": [
    "from RL.agents.REINFORCE import REINFORCE\n",
    "from RL.agents.A_C import A_C\n",
    "\n",
    "from RL.environment import env\n",
    "from RL.recom_papers.recom_papers import *\n",
    "from RL.RUN import run\n",
    "\n",
    "import time\n",
    "import pandas as pd\n",
    "import numpy as np\n",
    "import pickle\n",
    "\n",
    "import torch\n",
    "from torch.autograd import Variable\n",
    "import torch.nn.utils as utils\n",
    "import torch.autograd as autograd\n",
    "from torchtext import data\n",
    "\n",
    "from statistics import median\n",
    "import matplotlib.pyplot as plt\n",
    "import networkx as nx"
   ]
  },
  {
   "cell_type": "markdown",
   "metadata": {},
   "source": [
    "# All drugs"
   ]
  },
  {
   "cell_type": "code",
   "execution_count": 2,
   "metadata": {},
   "outputs": [
    {
     "data": {
      "text/plain": [
       "13"
      ]
     },
     "execution_count": 2,
     "metadata": {},
     "output_type": "execute_result"
    }
   ],
   "source": [
    "drugs = ['trametinib',\n",
    "         'fulvestrant',\n",
    "         'lovastatin',\n",
    "         'abiraterone',\n",
    "         'thalidomide',\n",
    "         'sirolimus',\n",
    "         'simvastatin',\n",
    "         'methotrexate',\n",
    "         'bortezomib',\n",
    "         'gemcitabine',\n",
    "         'tamoxifen',\n",
    "         'dexamethasone',\n",
    "         'doxorubicin']\n",
    "len(drugs)"
   ]
  },
  {
   "cell_type": "markdown",
   "metadata": {},
   "source": [
    "# Read data"
   ]
  },
  {
   "cell_type": "code",
   "execution_count": 3,
   "metadata": {},
   "outputs": [],
   "source": [
    "data_root = './data/'"
   ]
  },
  {
   "cell_type": "code",
   "execution_count": 4,
   "metadata": {},
   "outputs": [
    {
     "data": {
      "text/html": [
       "<div>\n",
       "<style scoped>\n",
       "    .dataframe tbody tr th:only-of-type {\n",
       "        vertical-align: middle;\n",
       "    }\n",
       "\n",
       "    .dataframe tbody tr th {\n",
       "        vertical-align: top;\n",
       "    }\n",
       "\n",
       "    .dataframe thead th {\n",
       "        text-align: right;\n",
       "    }\n",
       "</style>\n",
       "<table border=\"1\" class=\"dataframe\">\n",
       "  <thead>\n",
       "    <tr style=\"text-align: right;\">\n",
       "      <th></th>\n",
       "      <th>drug</th>\n",
       "      <th>file</th>\n",
       "      <th>lab</th>\n",
       "      <th>comment</th>\n",
       "    </tr>\n",
       "  </thead>\n",
       "  <tbody>\n",
       "    <tr>\n",
       "      <th>0</th>\n",
       "      <td>tamoxifen</td>\n",
       "      <td>PMC003XXXXXX.xml\\PMC0030XXXXX\\PMC3000794.xml</td>\n",
       "      <td>0</td>\n",
       "      <td>none</td>\n",
       "    </tr>\n",
       "    <tr>\n",
       "      <th>1</th>\n",
       "      <td>tamoxifen</td>\n",
       "      <td>PMC003XXXXXX.xml\\PMC0030XXXXX\\PMC3005955.xml</td>\n",
       "      <td>0</td>\n",
       "      <td>none</td>\n",
       "    </tr>\n",
       "    <tr>\n",
       "      <th>2</th>\n",
       "      <td>tamoxifen</td>\n",
       "      <td>PMC003XXXXXX.xml\\PMC0030XXXXX\\PMC3010527.xml</td>\n",
       "      <td>0</td>\n",
       "      <td>none</td>\n",
       "    </tr>\n",
       "    <tr>\n",
       "      <th>3</th>\n",
       "      <td>tamoxifen</td>\n",
       "      <td>PMC003XXXXXX.xml\\PMC0030XXXXX\\PMC3011858.xml</td>\n",
       "      <td>0</td>\n",
       "      <td>none</td>\n",
       "    </tr>\n",
       "    <tr>\n",
       "      <th>4</th>\n",
       "      <td>tamoxifen</td>\n",
       "      <td>PMC003XXXXXX.xml\\PMC0030XXXXX\\PMC3014261.xml</td>\n",
       "      <td>0</td>\n",
       "      <td>none</td>\n",
       "    </tr>\n",
       "  </tbody>\n",
       "</table>\n",
       "</div>"
      ],
      "text/plain": [
       "        drug                                          file  lab comment\n",
       "0  tamoxifen  PMC003XXXXXX.xml\\PMC0030XXXXX\\PMC3000794.xml    0    none\n",
       "1  tamoxifen  PMC003XXXXXX.xml\\PMC0030XXXXX\\PMC3005955.xml    0    none\n",
       "2  tamoxifen  PMC003XXXXXX.xml\\PMC0030XXXXX\\PMC3010527.xml    0    none\n",
       "3  tamoxifen  PMC003XXXXXX.xml\\PMC0030XXXXX\\PMC3011858.xml    0    none\n",
       "4  tamoxifen  PMC003XXXXXX.xml\\PMC0030XXXXX\\PMC3014261.xml    0    none"
      ]
     },
     "execution_count": 4,
     "metadata": {},
     "output_type": "execute_result"
    }
   ],
   "source": [
    "alllab_df = pd.read_csv(data_root+'lab_finfin.csv')\n",
    "alllab_df.head()"
   ]
  },
  {
   "cell_type": "code",
   "execution_count": 5,
   "metadata": {},
   "outputs": [
    {
     "data": {
      "text/html": [
       "<div>\n",
       "<style scoped>\n",
       "    .dataframe tbody tr th:only-of-type {\n",
       "        vertical-align: middle;\n",
       "    }\n",
       "\n",
       "    .dataframe tbody tr th {\n",
       "        vertical-align: top;\n",
       "    }\n",
       "\n",
       "    .dataframe thead th {\n",
       "        text-align: right;\n",
       "    }\n",
       "</style>\n",
       "<table border=\"1\" class=\"dataframe\">\n",
       "  <thead>\n",
       "    <tr style=\"text-align: right;\">\n",
       "      <th></th>\n",
       "      <th>file</th>\n",
       "      <th>features</th>\n",
       "    </tr>\n",
       "  </thead>\n",
       "  <tbody>\n",
       "    <tr>\n",
       "      <th>0</th>\n",
       "      <td>PMC003XXXXXX.xml\\PMC0030XXXXX\\PMC3000794.xml</td>\n",
       "      <td>erk1 2 dependent vascular endothelial growth f...</td>\n",
       "    </tr>\n",
       "    <tr>\n",
       "      <th>1</th>\n",
       "      <td>PMC003XXXXXX.xml\\PMC0030XXXXX\\PMC3001231.xml</td>\n",
       "      <td>peg functionalized magnetic nanoparticles for ...</td>\n",
       "    </tr>\n",
       "    <tr>\n",
       "      <th>2</th>\n",
       "      <td>PMC003XXXXXX.xml\\PMC0030XXXXX\\PMC3003872.xml</td>\n",
       "      <td>combination testing \\( stage 2 \\) of rapamycin...</td>\n",
       "    </tr>\n",
       "    <tr>\n",
       "      <th>3</th>\n",
       "      <td>PMC003XXXXXX.xml\\PMC0030XXXXX\\PMC3004744.xml</td>\n",
       "      <td>durable responses with the metronomic regimen ...</td>\n",
       "    </tr>\n",
       "    <tr>\n",
       "      <th>4</th>\n",
       "      <td>PMC003XXXXXX.xml\\PMC0030XXXXX\\PMC3005850.xml</td>\n",
       "      <td>ph sensitive ionomeric particles obtained via ...</td>\n",
       "    </tr>\n",
       "  </tbody>\n",
       "</table>\n",
       "</div>"
      ],
      "text/plain": [
       "                                           file  \\\n",
       "0  PMC003XXXXXX.xml\\PMC0030XXXXX\\PMC3000794.xml   \n",
       "1  PMC003XXXXXX.xml\\PMC0030XXXXX\\PMC3001231.xml   \n",
       "2  PMC003XXXXXX.xml\\PMC0030XXXXX\\PMC3003872.xml   \n",
       "3  PMC003XXXXXX.xml\\PMC0030XXXXX\\PMC3004744.xml   \n",
       "4  PMC003XXXXXX.xml\\PMC0030XXXXX\\PMC3005850.xml   \n",
       "\n",
       "                                            features  \n",
       "0  erk1 2 dependent vascular endothelial growth f...  \n",
       "1  peg functionalized magnetic nanoparticles for ...  \n",
       "2  combination testing \\( stage 2 \\) of rapamycin...  \n",
       "3  durable responses with the metronomic regimen ...  \n",
       "4  ph sensitive ionomeric particles obtained via ...  "
      ]
     },
     "execution_count": 5,
     "metadata": {},
     "output_type": "execute_result"
    }
   ],
   "source": [
    "allfea_df = pd.read_csv(data_root+'fea_finfin.csv')\n",
    "allfea_df['features'] = allfea_df['title'] + ' '+allfea_df['abstract']\n",
    "allfea_df = allfea_df.drop(columns=['title', 'abstract'])\n",
    "allfea_df.head()"
   ]
  },
  {
   "cell_type": "markdown",
   "metadata": {},
   "source": [
    "# Build Vocabulary"
   ]
  },
  {
   "cell_type": "code",
   "execution_count": 6,
   "metadata": {},
   "outputs": [
    {
     "name": "stdout",
     "output_type": "stream",
     "text": [
      "25695\n"
     ]
    },
    {
     "data": {
      "text/plain": [
       "4.120816230773926"
      ]
     },
     "execution_count": 6,
     "metadata": {},
     "output_type": "execute_result"
    }
   ],
   "source": [
    "start_t = time.time()\n",
    "\n",
    "text_field = data.Field(lower=True) # Text field\n",
    "fields = [('text', text_field)]\n",
    "\n",
    "examples = []\n",
    "\n",
    "for drug in drugs:\n",
    "    examples.append(data.Example.fromlist([drug], fields))\n",
    "    for file in alllab_df[alllab_df['drug']==drug]['file']:\n",
    "        for feature in allfea_df[allfea_df['file']==file]['features']:\n",
    "            if isinstance(feature, str):\n",
    "                example = feature + \" gene\"\n",
    "                examples.append(data.Example.fromlist([example], fields))\n",
    "\n",
    "dataset = data.Dataset(examples, fields) # Create dataset object\n",
    "\n",
    "text_field.build_vocab(dataset)\n",
    "print(len(text_field.vocab.stoi))\n",
    "\n",
    "time.time() - start_t"
   ]
  },
  {
   "cell_type": "markdown",
   "metadata": {},
   "source": [
    "# RL Models"
   ]
  },
  {
   "cell_type": "code",
   "execution_count": 7,
   "metadata": {},
   "outputs": [],
   "source": [
    "model_dir_root = './trained_models/'"
   ]
  },
  {
   "cell_type": "code",
   "execution_count": 8,
   "metadata": {},
   "outputs": [],
   "source": [
    "# Initial Papers from Baseline Model.\n",
    "paper_list = {'bortezomib': 'PMC004XXXXXX.xml\\\\PMC0042XXXXX\\\\PMC4266584.xml',\n",
    "              'gemcitabine': 'PMC004XXXXXX.xml\\\\PMC0048XXXXX\\\\PMC4873426.xml',\n",
    "              'tamoxifen': 'PMC003XXXXXX.xml\\\\PMC0037XXXXX\\\\PMC3711713.xml',\n",
    "              'dexamethasone': 'PMC004XXXXXX.xml\\\\PMC0044XXXXX\\\\PMC4422178.xml',\n",
    "              'doxorubicin': 'PMC003XXXXXX.xml\\\\PMC0032XXXXX\\\\PMC3298037.xml'}"
   ]
  },
  {
   "cell_type": "markdown",
   "metadata": {},
   "source": [
    "## RL REINFORCE"
   ]
  },
  {
   "cell_type": "code",
   "execution_count": 9,
   "metadata": {},
   "outputs": [
    {
     "name": "stderr",
     "output_type": "stream",
     "text": [
      "  3%|▎         | 10/370 [00:00<00:03, 91.92it/s]"
     ]
    },
    {
     "name": "stdout",
     "output_type": "stream",
     "text": [
      "Starting Converting:\n",
      "End of Converting.\n",
      "# drug: bortezomib ###############\n",
      "# Total: 371 ##############\n",
      "##########################\n",
      "The 0th episode\n",
      "============================================\n",
      "PMC004XXXXXX.xml\\PMC0042XXXXX\\PMC4266584.xml\n"
     ]
    },
    {
     "name": "stderr",
     "output_type": "stream",
     "text": [
      " 30%|██▉       | 110/370 [00:01<00:02, 90.92it/s]\n",
      "  2%|▏         | 9/370 [00:00<00:04, 89.56it/s]"
     ]
    },
    {
     "name": "stdout",
     "output_type": "stream",
     "text": [
      "# of papers to read:  112  Time elapse (min):  0.0203130046526591 ============================================\n",
      "The 1th episode\n",
      "============================================\n",
      "PMC004XXXXXX.xml\\PMC0042XXXXX\\PMC4266584.xml\n"
     ]
    },
    {
     "name": "stderr",
     "output_type": "stream",
     "text": [
      " 30%|██▉       | 110/370 [00:01<00:02, 102.75it/s]\n",
      "  3%|▎         | 11/370 [00:00<00:03, 104.22it/s]"
     ]
    },
    {
     "name": "stdout",
     "output_type": "stream",
     "text": [
      "# of papers to read:  112  Time elapse (min):  0.038286070028940834 ============================================\n",
      "The 2th episode\n",
      "============================================\n",
      "PMC004XXXXXX.xml\\PMC0042XXXXX\\PMC4266584.xml\n"
     ]
    },
    {
     "name": "stderr",
     "output_type": "stream",
     "text": [
      " 30%|██▉       | 110/370 [00:01<00:02, 95.95it/s]\n",
      "  2%|▏         | 7/414 [00:00<00:05, 68.79it/s]"
     ]
    },
    {
     "name": "stdout",
     "output_type": "stream",
     "text": [
      "# of papers to read:  112  Time elapse (min):  0.057532485326131186 ============================================\n",
      "Starting Converting:\n",
      "End of Converting.\n",
      "# drug: gemcitabine ###############\n",
      "# Total: 415 ##############\n",
      "##########################\n",
      "The 0th episode\n",
      "============================================\n",
      "PMC004XXXXXX.xml\\PMC0048XXXXX\\PMC4873426.xml\n"
     ]
    },
    {
     "name": "stderr",
     "output_type": "stream",
     "text": [
      " 11%|█         | 44/414 [00:00<00:04, 75.24it/s]\n",
      "  2%|▏         | 9/414 [00:00<00:04, 87.00it/s]"
     ]
    },
    {
     "name": "stdout",
     "output_type": "stream",
     "text": [
      "# of papers to read:  46  Time elapse (min):  0.010005601247151693 ============================================\n",
      "The 1th episode\n",
      "============================================\n",
      "PMC004XXXXXX.xml\\PMC0048XXXXX\\PMC4873426.xml\n"
     ]
    },
    {
     "name": "stderr",
     "output_type": "stream",
     "text": [
      " 11%|█         | 44/414 [00:00<00:03, 93.71it/s]\n",
      "  2%|▏         | 9/414 [00:00<00:04, 87.63it/s]"
     ]
    },
    {
     "name": "stdout",
     "output_type": "stream",
     "text": [
      "# of papers to read:  46  Time elapse (min):  0.018018515904744466 ============================================\n",
      "The 2th episode\n",
      "============================================\n",
      "PMC004XXXXXX.xml\\PMC0048XXXXX\\PMC4873426.xml\n"
     ]
    },
    {
     "name": "stderr",
     "output_type": "stream",
     "text": [
      " 11%|█         | 44/414 [00:00<00:04, 90.49it/s]\n",
      "  2%|▏         | 9/525 [00:00<00:06, 84.95it/s]"
     ]
    },
    {
     "name": "stdout",
     "output_type": "stream",
     "text": [
      "# of papers to read:  46  Time elapse (min):  0.026254252592722575 ============================================\n",
      "Starting Converting:\n",
      "End of Converting.\n",
      "# drug: tamoxifen ###############\n",
      "# Total: 526 ##############\n",
      "##########################\n",
      "The 0th episode\n",
      "============================================\n",
      "PMC003XXXXXX.xml\\PMC0037XXXXX\\PMC3711713.xml\n"
     ]
    },
    {
     "name": "stderr",
     "output_type": "stream",
     "text": [
      "  6%|▋         | 34/525 [00:00<00:07, 69.07it/s]\n",
      "  1%|▏         | 7/525 [00:00<00:07, 65.59it/s]"
     ]
    },
    {
     "name": "stdout",
     "output_type": "stream",
     "text": [
      "# of papers to read:  36  Time elapse (min):  0.0084145983060201 ============================================\n",
      "The 1th episode\n",
      "============================================\n",
      "PMC003XXXXXX.xml\\PMC0037XXXXX\\PMC3711713.xml\n"
     ]
    },
    {
     "name": "stderr",
     "output_type": "stream",
     "text": [
      "  6%|▋         | 34/525 [00:00<00:07, 67.64it/s]\n",
      "  2%|▏         | 9/525 [00:00<00:06, 82.40it/s]"
     ]
    },
    {
     "name": "stdout",
     "output_type": "stream",
     "text": [
      "# of papers to read:  36  Time elapse (min):  0.016988329092661538 ============================================\n",
      "The 2th episode\n",
      "============================================\n",
      "PMC003XXXXXX.xml\\PMC0037XXXXX\\PMC3711713.xml\n"
     ]
    },
    {
     "name": "stderr",
     "output_type": "stream",
     "text": [
      "  6%|▋         | 34/525 [00:00<00:06, 79.59it/s]\n",
      "  1%|▏         | 8/564 [00:00<00:07, 78.33it/s]"
     ]
    },
    {
     "name": "stdout",
     "output_type": "stream",
     "text": [
      "# of papers to read:  36  Time elapse (min):  0.02430698076883952 ============================================\n",
      "Starting Converting:\n",
      "End of Converting.\n",
      "# drug: dexamethasone ###############\n",
      "# Total: 565 ##############\n",
      "##########################\n",
      "The 0th episode\n",
      "============================================\n",
      "PMC004XXXXXX.xml\\PMC0044XXXXX\\PMC4422178.xml\n"
     ]
    },
    {
     "name": "stderr",
     "output_type": "stream",
     "text": [
      " 13%|█▎        | 72/564 [00:01<00:07, 66.57it/s]\n",
      "  2%|▏         | 9/564 [00:00<00:06, 83.90it/s]"
     ]
    },
    {
     "name": "stdout",
     "output_type": "stream",
     "text": [
      "# of papers to read:  74  Time elapse (min):  0.018248446782430015 ============================================\n",
      "The 1th episode\n",
      "============================================\n",
      "PMC004XXXXXX.xml\\PMC0044XXXXX\\PMC4422178.xml\n"
     ]
    },
    {
     "name": "stderr",
     "output_type": "stream",
     "text": [
      " 13%|█▎        | 72/564 [00:01<00:07, 69.67it/s]\n",
      "  1%|          | 7/564 [00:00<00:08, 65.13it/s]"
     ]
    },
    {
     "name": "stdout",
     "output_type": "stream",
     "text": [
      "# of papers to read:  74  Time elapse (min):  0.035710497697194414 ============================================\n",
      "The 2th episode\n",
      "============================================\n",
      "PMC004XXXXXX.xml\\PMC0044XXXXX\\PMC4422178.xml\n"
     ]
    },
    {
     "name": "stderr",
     "output_type": "stream",
     "text": [
      " 13%|█▎        | 72/564 [00:00<00:06, 74.90it/s]\n",
      "  0%|          | 0/803 [00:00<?, ?it/s]"
     ]
    },
    {
     "name": "stdout",
     "output_type": "stream",
     "text": [
      "# of papers to read:  74  Time elapse (min):  0.05197482903798421 ============================================\n",
      "Starting Converting:\n",
      "End of Converting.\n",
      "# drug: doxorubicin ###############\n",
      "# Total: 804 ##############\n",
      "##########################\n",
      "The 0th episode\n",
      "============================================\n",
      "PMC003XXXXXX.xml\\PMC0032XXXXX\\PMC3298037.xml\n"
     ]
    },
    {
     "name": "stderr",
     "output_type": "stream",
     "text": [
      " 61%|██████    | 489/803 [00:07<00:05, 61.43it/s]\n",
      "  1%|          | 8/803 [00:00<00:10, 73.36it/s]"
     ]
    },
    {
     "name": "stdout",
     "output_type": "stream",
     "text": [
      "# of papers to read:  491  Time elapse (min):  0.13295085430145265 ============================================\n",
      "The 1th episode\n",
      "============================================\n",
      "PMC003XXXXXX.xml\\PMC0032XXXXX\\PMC3298037.xml\n"
     ]
    },
    {
     "name": "stderr",
     "output_type": "stream",
     "text": [
      " 61%|██████    | 489/803 [00:08<00:05, 60.00it/s]\n",
      "  1%|          | 8/803 [00:00<00:10, 78.48it/s]"
     ]
    },
    {
     "name": "stdout",
     "output_type": "stream",
     "text": [
      "# of papers to read:  491  Time elapse (min):  0.2689866542816162 ============================================\n",
      "The 2th episode\n",
      "============================================\n",
      "PMC003XXXXXX.xml\\PMC0032XXXXX\\PMC3298037.xml\n"
     ]
    },
    {
     "name": "stderr",
     "output_type": "stream",
     "text": [
      " 61%|██████    | 489/803 [00:07<00:05, 61.97it/s]"
     ]
    },
    {
     "name": "stdout",
     "output_type": "stream",
     "text": [
      "# of papers to read:  491  Time elapse (min):  0.40072556734085085 ============================================\n"
     ]
    },
    {
     "name": "stderr",
     "output_type": "stream",
     "text": [
      "\n"
     ]
    }
   ],
   "source": [
    "agent = REINFORCE(text_field, action_size=20, model_dir=model_dir_root+'rl_ta_baseline20a0001_r_9_model.pkl')\n",
    "res = run(drugs[8:], agent, text_field, allfea_df, alllab_df,  train=False, action_size=20, weight = False, max_episode = 3, hybrid=paper_list)"
   ]
  },
  {
   "cell_type": "markdown",
   "metadata": {},
   "source": [
    "## RL A2C"
   ]
  },
  {
   "cell_type": "code",
   "execution_count": 10,
   "metadata": {},
   "outputs": [
    {
     "name": "stderr",
     "output_type": "stream",
     "text": [
      "\r",
      "  0%|          | 0/370 [00:00<?, ?it/s]"
     ]
    },
    {
     "name": "stdout",
     "output_type": "stream",
     "text": [
      "Starting Converting:\n",
      "End of Converting.\n",
      "# drug: bortezomib ###############\n",
      "# Total: 371 ##############\n",
      "##########################\n",
      "The 0th episode\n",
      "============================================\n",
      "PMC004XXXXXX.xml\\PMC0042XXXXX\\PMC4266584.xml\n"
     ]
    },
    {
     "name": "stderr",
     "output_type": "stream",
     "text": [
      " 26%|██▌       | 96/370 [00:01<00:03, 82.71it/s]\n",
      "  3%|▎         | 11/370 [00:00<00:03, 102.11it/s]"
     ]
    },
    {
     "name": "stdout",
     "output_type": "stream",
     "text": [
      "# of papers to read:  98  Time elapse (min):  0.019482147693634034 ============================================\n",
      "The 1th episode\n",
      "============================================\n",
      "PMC004XXXXXX.xml\\PMC0042XXXXX\\PMC4266584.xml\n"
     ]
    },
    {
     "name": "stderr",
     "output_type": "stream",
     "text": [
      " 19%|█▊        | 69/370 [00:00<00:02, 101.42it/s]\n",
      "  2%|▏         | 9/370 [00:00<00:04, 82.23it/s]"
     ]
    },
    {
     "name": "stdout",
     "output_type": "stream",
     "text": [
      "# of papers to read:  71  Time elapse (min):  0.030939984321594238 ============================================\n",
      "The 2th episode\n",
      "============================================\n",
      "PMC004XXXXXX.xml\\PMC0042XXXXX\\PMC4266584.xml\n"
     ]
    },
    {
     "name": "stderr",
     "output_type": "stream",
     "text": [
      "  9%|▉         | 34/370 [00:00<00:05, 61.93it/s]\n",
      "  2%|▏         | 7/370 [00:00<00:05, 65.13it/s]"
     ]
    },
    {
     "name": "stdout",
     "output_type": "stream",
     "text": [
      "# of papers to read:  36  Time elapse (min):  0.04023573001225789 ============================================\n",
      "The 3th episode\n",
      "============================================\n",
      "PMC004XXXXXX.xml\\PMC0042XXXXX\\PMC4266584.xml\n"
     ]
    },
    {
     "name": "stderr",
     "output_type": "stream",
     "text": [
      " 37%|███▋      | 137/370 [00:01<00:02, 89.52it/s] \n",
      "  3%|▎         | 11/370 [00:00<00:03, 102.38it/s]"
     ]
    },
    {
     "name": "stdout",
     "output_type": "stream",
     "text": [
      "# of papers to read:  139  Time elapse (min):  0.06594061454137166 ============================================\n",
      "The 4th episode\n",
      "============================================\n",
      "PMC004XXXXXX.xml\\PMC0042XXXXX\\PMC4266584.xml\n"
     ]
    },
    {
     "name": "stderr",
     "output_type": "stream",
     "text": [
      " 21%|██▏       | 79/370 [00:00<00:03, 95.69it/s] \n",
      "  3%|▎         | 11/370 [00:00<00:03, 101.45it/s]"
     ]
    },
    {
     "name": "stdout",
     "output_type": "stream",
     "text": [
      "# of papers to read:  81  Time elapse (min):  0.0798139492670695 ============================================\n",
      "The 5th episode\n",
      "============================================\n",
      "PMC004XXXXXX.xml\\PMC0042XXXXX\\PMC4266584.xml\n"
     ]
    },
    {
     "name": "stderr",
     "output_type": "stream",
     "text": [
      "  9%|▉         | 34/370 [00:00<00:03, 96.00it/s] \n",
      "  3%|▎         | 10/370 [00:00<00:04, 87.98it/s]"
     ]
    },
    {
     "name": "stdout",
     "output_type": "stream",
     "text": [
      "# of papers to read:  36  Time elapse (min):  0.08601038455963135 ============================================\n",
      "The 6th episode\n",
      "============================================\n",
      "PMC004XXXXXX.xml\\PMC0042XXXXX\\PMC4266584.xml\n"
     ]
    },
    {
     "name": "stderr",
     "output_type": "stream",
     "text": [
      " 18%|█▊        | 66/370 [00:00<00:03, 84.18it/s]\n",
      "  2%|▏         | 6/370 [00:00<00:06, 58.39it/s]"
     ]
    },
    {
     "name": "stdout",
     "output_type": "stream",
     "text": [
      "# of papers to read:  68  Time elapse (min):  0.09928280115127563 ============================================\n",
      "The 7th episode\n",
      "============================================\n",
      "PMC004XXXXXX.xml\\PMC0042XXXXX\\PMC4266584.xml\n"
     ]
    },
    {
     "name": "stderr",
     "output_type": "stream",
     "text": [
      " 12%|█▏        | 43/370 [00:00<00:04, 69.32it/s]\n",
      "  2%|▏         | 9/370 [00:00<00:04, 85.01it/s]"
     ]
    },
    {
     "name": "stdout",
     "output_type": "stream",
     "text": [
      "# of papers to read:  45  Time elapse (min):  0.1098231832186381 ============================================\n",
      "The 8th episode\n",
      "============================================\n",
      "PMC004XXXXXX.xml\\PMC0042XXXXX\\PMC4266584.xml\n"
     ]
    },
    {
     "name": "stderr",
     "output_type": "stream",
     "text": [
      " 29%|██▉       | 109/370 [00:01<00:03, 84.02it/s]\n",
      "  3%|▎         | 11/370 [00:00<00:03, 106.12it/s]"
     ]
    },
    {
     "name": "stdout",
     "output_type": "stream",
     "text": [
      "# of papers to read:  111  Time elapse (min):  0.13170928557713826 ============================================\n",
      "The 9th episode\n",
      "============================================\n",
      "PMC004XXXXXX.xml\\PMC0042XXXXX\\PMC4266584.xml\n"
     ]
    },
    {
     "name": "stderr",
     "output_type": "stream",
     "text": [
      " 30%|██▉       | 110/370 [00:01<00:02, 86.90it/s]\n",
      "  2%|▏         | 9/370 [00:00<00:04, 87.35it/s]"
     ]
    },
    {
     "name": "stdout",
     "output_type": "stream",
     "text": [
      "# of papers to read:  112  Time elapse (min):  0.1529518167177836 ============================================\n",
      "The 10th episode\n",
      "============================================\n",
      "PMC004XXXXXX.xml\\PMC0042XXXXX\\PMC4266584.xml\n"
     ]
    },
    {
     "name": "stderr",
     "output_type": "stream",
     "text": [
      " 33%|███▎      | 123/370 [00:01<00:03, 82.06it/s]\n",
      "  2%|▏         | 7/370 [00:00<00:05, 65.51it/s]"
     ]
    },
    {
     "name": "stdout",
     "output_type": "stream",
     "text": [
      "# of papers to read:  125  Time elapse (min):  0.17807406584421795 ============================================\n",
      "The 11th episode\n",
      "============================================\n",
      "PMC004XXXXXX.xml\\PMC0042XXXXX\\PMC4266584.xml\n"
     ]
    },
    {
     "name": "stderr",
     "output_type": "stream",
     "text": [
      " 19%|█▉        | 72/370 [00:00<00:04, 72.01it/s]\n",
      "  3%|▎         | 11/370 [00:00<00:03, 103.81it/s]"
     ]
    },
    {
     "name": "stdout",
     "output_type": "stream",
     "text": [
      "# of papers to read:  74  Time elapse (min):  0.1950705647468567 ============================================\n",
      "The 12th episode\n",
      "============================================\n",
      "PMC004XXXXXX.xml\\PMC0042XXXXX\\PMC4266584.xml\n"
     ]
    },
    {
     "name": "stderr",
     "output_type": "stream",
     "text": [
      "  8%|▊         | 31/370 [00:00<00:03, 93.86it/s] \n",
      "  3%|▎         | 10/370 [00:00<00:03, 93.36it/s]"
     ]
    },
    {
     "name": "stdout",
     "output_type": "stream",
     "text": [
      "# of papers to read:  33  Time elapse (min):  0.20085611740748088 ============================================\n",
      "The 13th episode\n",
      "============================================\n",
      "PMC004XXXXXX.xml\\PMC0042XXXXX\\PMC4266584.xml\n"
     ]
    },
    {
     "name": "stderr",
     "output_type": "stream",
     "text": [
      " 29%|██▉       | 108/370 [00:01<00:03, 80.40it/s]\n",
      "  1%|▏         | 5/370 [00:00<00:07, 48.99it/s]"
     ]
    },
    {
     "name": "stdout",
     "output_type": "stream",
     "text": [
      "# of papers to read:  110  Time elapse (min):  0.22336291869481403 ============================================\n",
      "The 14th episode\n",
      "============================================\n",
      "PMC004XXXXXX.xml\\PMC0042XXXXX\\PMC4266584.xml\n"
     ]
    },
    {
     "name": "stderr",
     "output_type": "stream",
     "text": [
      " 10%|▉         | 36/370 [00:00<00:04, 78.45it/s]\n",
      "  2%|▏         | 6/370 [00:00<00:06, 58.81it/s]"
     ]
    },
    {
     "name": "stdout",
     "output_type": "stream",
     "text": [
      "# of papers to read:  38  Time elapse (min):  0.23134156465530395 ============================================\n",
      "The 15th episode\n",
      "============================================\n",
      "PMC004XXXXXX.xml\\PMC0042XXXXX\\PMC4266584.xml\n"
     ]
    },
    {
     "name": "stderr",
     "output_type": "stream",
     "text": [
      " 39%|███▉      | 144/370 [00:01<00:02, 79.93it/s]\n",
      "  3%|▎         | 10/370 [00:00<00:03, 91.81it/s]"
     ]
    },
    {
     "name": "stdout",
     "output_type": "stream",
     "text": [
      "# of papers to read:  146  Time elapse (min):  0.26152453422546384 ============================================\n",
      "The 16th episode\n",
      "============================================\n",
      "PMC004XXXXXX.xml\\PMC0042XXXXX\\PMC4266584.xml\n"
     ]
    },
    {
     "name": "stderr",
     "output_type": "stream",
     "text": [
      " 23%|██▎       | 86/370 [00:00<00:03, 89.12it/s]\n",
      "  2%|▏         | 9/370 [00:00<00:04, 78.78it/s]"
     ]
    },
    {
     "name": "stdout",
     "output_type": "stream",
     "text": [
      "# of papers to read:  88  Time elapse (min):  0.2777481317520142 ============================================\n",
      "The 17th episode\n",
      "============================================\n",
      "PMC004XXXXXX.xml\\PMC0042XXXXX\\PMC4266584.xml\n"
     ]
    },
    {
     "name": "stderr",
     "output_type": "stream",
     "text": [
      " 35%|███▌      | 130/370 [00:01<00:03, 76.78it/s]\n",
      "  2%|▏         | 8/370 [00:00<00:04, 78.20it/s]"
     ]
    },
    {
     "name": "stdout",
     "output_type": "stream",
     "text": [
      "# of papers to read:  132  Time elapse (min):  0.3060856024424235 ============================================\n",
      "The 18th episode\n",
      "============================================\n",
      "PMC004XXXXXX.xml\\PMC0042XXXXX\\PMC4266584.xml\n"
     ]
    },
    {
     "name": "stderr",
     "output_type": "stream",
     "text": [
      " 32%|███▏      | 119/370 [00:01<00:03, 74.40it/s]\n",
      "  2%|▏         | 7/370 [00:00<00:05, 69.21it/s]"
     ]
    },
    {
     "name": "stdout",
     "output_type": "stream",
     "text": [
      "# of papers to read:  121  Time elapse (min):  0.33290571769078575 ============================================\n",
      "The 19th episode\n",
      "============================================\n",
      "PMC004XXXXXX.xml\\PMC0042XXXXX\\PMC4266584.xml\n"
     ]
    },
    {
     "name": "stderr",
     "output_type": "stream",
     "text": [
      " 29%|██▉       | 107/370 [00:01<00:03, 84.69it/s]\n",
      "  3%|▎         | 12/370 [00:00<00:03, 119.08it/s]"
     ]
    },
    {
     "name": "stdout",
     "output_type": "stream",
     "text": [
      "# of papers to read:  109  Time elapse (min):  0.3540956497192383 ============================================\n",
      "The 20th episode\n",
      "============================================\n",
      "PMC004XXXXXX.xml\\PMC0042XXXXX\\PMC4266584.xml\n"
     ]
    },
    {
     "name": "stderr",
     "output_type": "stream",
     "text": [
      "  7%|▋         | 27/370 [00:00<00:02, 114.49it/s]\n",
      "  3%|▎         | 11/370 [00:00<00:03, 110.95it/s]\n",
      "  0%|          | 0/370 [00:00<?, ?it/s]"
     ]
    },
    {
     "name": "stdout",
     "output_type": "stream",
     "text": [
      "# of papers to read:  29  Time elapse (min):  0.35814495086669923 ============================================\n",
      "The 21th episode\n",
      "============================================\n",
      "PMC004XXXXXX.xml\\PMC0042XXXXX\\PMC4266584.xml\n",
      "# of papers to read:  13  Time elapse (min):  0.35992093086242677 ============================================\n",
      "The 22th episode\n",
      "============================================\n",
      "PMC004XXXXXX.xml\\PMC0042XXXXX\\PMC4266584.xml\n"
     ]
    },
    {
     "name": "stderr",
     "output_type": "stream",
     "text": [
      " 11%|█         | 39/370 [00:00<00:02, 115.56it/s]\n",
      "  3%|▎         | 12/370 [00:00<00:03, 115.36it/s]"
     ]
    },
    {
     "name": "stdout",
     "output_type": "stream",
     "text": [
      "# of papers to read:  41  Time elapse (min):  0.365666401386261 ============================================\n",
      "The 23th episode\n",
      "============================================\n",
      "PMC004XXXXXX.xml\\PMC0042XXXXX\\PMC4266584.xml\n"
     ]
    },
    {
     "name": "stderr",
     "output_type": "stream",
     "text": [
      " 22%|██▏       | 83/370 [00:00<00:02, 118.75it/s]\n",
      "  3%|▎         | 12/370 [00:00<00:03, 118.95it/s]"
     ]
    },
    {
     "name": "stdout",
     "output_type": "stream",
     "text": [
      "# of papers to read:  85  Time elapse (min):  0.3774360696474711 ============================================\n",
      "The 24th episode\n",
      "============================================\n",
      "PMC004XXXXXX.xml\\PMC0042XXXXX\\PMC4266584.xml\n"
     ]
    },
    {
     "name": "stderr",
     "output_type": "stream",
     "text": [
      "  7%|▋         | 26/370 [00:00<00:02, 116.71it/s]\n",
      "  4%|▎         | 13/370 [00:00<00:02, 120.70it/s]"
     ]
    },
    {
     "name": "stdout",
     "output_type": "stream",
     "text": [
      "# of papers to read:  28  Time elapse (min):  0.3812748670578003 ============================================\n",
      "The 25th episode\n",
      "============================================\n",
      "PMC004XXXXXX.xml\\PMC0042XXXXX\\PMC4266584.xml\n"
     ]
    },
    {
     "name": "stderr",
     "output_type": "stream",
     "text": [
      "  7%|▋         | 25/370 [00:00<00:03, 111.56it/s]\n",
      "  3%|▎         | 12/370 [00:00<00:03, 117.09it/s]"
     ]
    },
    {
     "name": "stdout",
     "output_type": "stream",
     "text": [
      "# of papers to read:  27  Time elapse (min):  0.38512738545735675 ============================================\n",
      "The 26th episode\n",
      "============================================\n",
      "PMC004XXXXXX.xml\\PMC0042XXXXX\\PMC4266584.xml\n"
     ]
    },
    {
     "name": "stderr",
     "output_type": "stream",
     "text": [
      " 18%|█▊        | 67/370 [00:00<00:02, 117.41it/s]\n",
      "  3%|▎         | 12/370 [00:00<00:03, 119.29it/s]"
     ]
    },
    {
     "name": "stdout",
     "output_type": "stream",
     "text": [
      "# of papers to read:  69  Time elapse (min):  0.3947479645411173 ============================================\n",
      "The 27th episode\n",
      "============================================\n",
      "PMC004XXXXXX.xml\\PMC0042XXXXX\\PMC4266584.xml\n"
     ]
    },
    {
     "name": "stderr",
     "output_type": "stream",
     "text": [
      "  9%|▉         | 33/370 [00:00<00:02, 117.33it/s]\n",
      "  3%|▎         | 11/370 [00:00<00:03, 107.26it/s]"
     ]
    },
    {
     "name": "stdout",
     "output_type": "stream",
     "text": [
      "# of papers to read:  35  Time elapse (min):  0.399557634194692 ============================================\n",
      "The 28th episode\n",
      "============================================\n",
      "PMC004XXXXXX.xml\\PMC0042XXXXX\\PMC4266584.xml\n"
     ]
    },
    {
     "name": "stderr",
     "output_type": "stream",
     "text": [
      " 18%|█▊        | 68/370 [00:00<00:02, 113.79it/s]\n",
      "  3%|▎         | 12/370 [00:00<00:03, 115.41it/s]"
     ]
    },
    {
     "name": "stdout",
     "output_type": "stream",
     "text": [
      "# of papers to read:  70  Time elapse (min):  0.4096687356630961 ============================================\n",
      "The 29th episode\n",
      "============================================\n",
      "PMC004XXXXXX.xml\\PMC0042XXXXX\\PMC4266584.xml\n"
     ]
    },
    {
     "name": "stderr",
     "output_type": "stream",
     "text": [
      " 28%|██▊       | 104/370 [00:00<00:02, 107.62it/s]\n",
      "  3%|▎         | 11/414 [00:00<00:03, 106.08it/s]"
     ]
    },
    {
     "name": "stdout",
     "output_type": "stream",
     "text": [
      "# of papers to read:  106  Time elapse (min):  0.4258909503618876 ============================================\n",
      "Starting Converting:\n",
      "End of Converting.\n",
      "# drug: gemcitabine ###############\n",
      "# Total: 415 ##############\n",
      "##########################\n",
      "The 0th episode\n",
      "============================================\n",
      "PMC004XXXXXX.xml\\PMC0048XXXXX\\PMC4873426.xml\n"
     ]
    },
    {
     "name": "stderr",
     "output_type": "stream",
     "text": [
      " 13%|█▎        | 52/414 [00:00<00:03, 109.35it/s]\n",
      "  3%|▎         | 11/414 [00:00<00:03, 109.19it/s]"
     ]
    },
    {
     "name": "stdout",
     "output_type": "stream",
     "text": [
      "# of papers to read:  54  Time elapse (min):  0.008108035723368327 ============================================\n",
      "The 1th episode\n",
      "============================================\n",
      "PMC004XXXXXX.xml\\PMC0048XXXXX\\PMC4873426.xml\n"
     ]
    },
    {
     "name": "stderr",
     "output_type": "stream",
     "text": [
      " 13%|█▎        | 52/414 [00:01<00:09, 36.77it/s] \n",
      "  2%|▏         | 9/414 [00:00<00:04, 82.93it/s]"
     ]
    },
    {
     "name": "stdout",
     "output_type": "stream",
     "text": [
      "# of papers to read:  54  Time elapse (min):  0.03182752132415771 ============================================\n",
      "The 2th episode\n",
      "============================================\n",
      "PMC004XXXXXX.xml\\PMC0048XXXXX\\PMC4873426.xml\n"
     ]
    },
    {
     "name": "stderr",
     "output_type": "stream",
     "text": [
      " 11%|█         | 44/414 [00:00<00:04, 81.13it/s]\n",
      "  0%|          | 2/414 [00:00<00:07, 54.97it/s]\n",
      "  0%|          | 2/414 [00:00<00:08, 48.96it/s]\n",
      "  0%|          | 2/414 [00:00<00:11, 36.12it/s]\n",
      "  0%|          | 0/414 [00:00<?, ?it/s]"
     ]
    },
    {
     "name": "stdout",
     "output_type": "stream",
     "text": [
      "# of papers to read:  46  Time elapse (min):  0.04114588499069214 ============================================\n",
      "The 3th episode\n",
      "============================================\n",
      "PMC004XXXXXX.xml\\PMC0048XXXXX\\PMC4873426.xml\n",
      "# of papers to read:  4  Time elapse (min):  0.04194350242614746 ============================================\n",
      "The 4th episode\n",
      "============================================\n",
      "PMC004XXXXXX.xml\\PMC0048XXXXX\\PMC4873426.xml\n",
      "# of papers to read:  4  Time elapse (min):  0.04290072123209635 ============================================\n",
      "The 5th episode\n",
      "============================================\n",
      "PMC004XXXXXX.xml\\PMC0048XXXXX\\PMC4873426.xml\n",
      "# of papers to read:  4  Time elapse (min):  0.04402360518773397 ============================================\n",
      "The 6th episode\n",
      "============================================\n",
      "PMC004XXXXXX.xml\\PMC0048XXXXX\\PMC4873426.xml\n"
     ]
    },
    {
     "name": "stderr",
     "output_type": "stream",
     "text": [
      "  0%|          | 2/414 [00:00<00:59,  6.97it/s]\n",
      "  0%|          | 2/414 [00:00<00:09, 45.14it/s]\n",
      "  0%|          | 2/414 [00:00<00:06, 59.85it/s]\n",
      "  0%|          | 2/414 [00:00<00:08, 48.69it/s]\n",
      "  0%|          | 0/414 [00:00<?, ?it/s]"
     ]
    },
    {
     "name": "stdout",
     "output_type": "stream",
     "text": [
      "# of papers to read:  4  Time elapse (min):  0.050158250331878665 ============================================\n",
      "The 7th episode\n",
      "============================================\n",
      "PMC004XXXXXX.xml\\PMC0048XXXXX\\PMC4873426.xml\n",
      "# of papers to read:  4  Time elapse (min):  0.05141286849975586 ============================================\n",
      "The 8th episode\n",
      "============================================\n",
      "PMC004XXXXXX.xml\\PMC0048XXXXX\\PMC4873426.xml\n",
      "# of papers to read:  4  Time elapse (min):  0.05213793913523356 ============================================\n",
      "The 9th episode\n",
      "============================================\n",
      "PMC004XXXXXX.xml\\PMC0048XXXXX\\PMC4873426.xml\n",
      "# of papers to read:  4  Time elapse (min):  0.05305218696594238 ============================================\n",
      "The 10th episode\n",
      "============================================\n",
      "PMC004XXXXXX.xml\\PMC0048XXXXX\\PMC4873426.xml\n"
     ]
    },
    {
     "name": "stderr",
     "output_type": "stream",
     "text": [
      "  0%|          | 2/414 [00:00<00:09, 43.79it/s]\n",
      "  0%|          | 2/414 [00:00<00:07, 54.01it/s]\n",
      "  1%|          | 3/414 [00:00<00:14, 29.31it/s]"
     ]
    },
    {
     "name": "stdout",
     "output_type": "stream",
     "text": [
      "# of papers to read:  4  Time elapse (min):  0.05397580464680989 ============================================\n",
      "The 11th episode\n",
      "============================================\n",
      "PMC004XXXXXX.xml\\PMC0048XXXXX\\PMC4873426.xml\n",
      "# of papers to read:  4  Time elapse (min):  0.054737432797749834 ============================================\n",
      "The 12th episode\n",
      "============================================\n",
      "PMC004XXXXXX.xml\\PMC0048XXXXX\\PMC4873426.xml\n"
     ]
    },
    {
     "name": "stderr",
     "output_type": "stream",
     "text": [
      "  9%|▊         | 36/414 [00:01<00:10, 34.81it/s]\n",
      "  0%|          | 2/414 [00:00<00:05, 76.27it/s]\n",
      "  2%|▏         | 9/414 [00:00<00:04, 84.98it/s]"
     ]
    },
    {
     "name": "stdout",
     "output_type": "stream",
     "text": [
      "# of papers to read:  38  Time elapse (min):  0.07212681770324707 ============================================\n",
      "The 13th episode\n",
      "============================================\n",
      "PMC004XXXXXX.xml\\PMC0048XXXXX\\PMC4873426.xml\n",
      "# of papers to read:  4  Time elapse (min):  0.07270026604334513 ============================================\n",
      "The 14th episode\n",
      "============================================\n",
      "PMC004XXXXXX.xml\\PMC0048XXXXX\\PMC4873426.xml\n"
     ]
    },
    {
     "name": "stderr",
     "output_type": "stream",
     "text": [
      "  7%|▋         | 31/414 [00:00<00:04, 84.84it/s]\n",
      "  2%|▏         | 7/414 [00:00<00:06, 60.86it/s]"
     ]
    },
    {
     "name": "stdout",
     "output_type": "stream",
     "text": [
      "# of papers to read:  33  Time elapse (min):  0.07893008788426717 ============================================\n",
      "The 15th episode\n",
      "============================================\n",
      "PMC004XXXXXX.xml\\PMC0048XXXXX\\PMC4873426.xml\n"
     ]
    },
    {
     "name": "stderr",
     "output_type": "stream",
     "text": [
      " 13%|█▎        | 54/414 [00:00<00:04, 72.10it/s]\n",
      "  0%|          | 2/414 [00:00<00:07, 53.02it/s]\n",
      "  0%|          | 2/414 [00:00<00:06, 59.08it/s]\n",
      "  0%|          | 2/414 [00:00<00:07, 58.76it/s]\n",
      "  0%|          | 2/414 [00:00<00:05, 69.22it/s]\n",
      "  0%|          | 0/414 [00:00<?, ?it/s]"
     ]
    },
    {
     "name": "stdout",
     "output_type": "stream",
     "text": [
      "# of papers to read:  56  Time elapse (min):  0.09155903657277426 ============================================\n",
      "The 16th episode\n",
      "============================================\n",
      "PMC004XXXXXX.xml\\PMC0048XXXXX\\PMC4873426.xml\n",
      "# of papers to read:  4  Time elapse (min):  0.09233538707097372 ============================================\n",
      "The 17th episode\n",
      "============================================\n",
      "PMC004XXXXXX.xml\\PMC0048XXXXX\\PMC4873426.xml\n",
      "# of papers to read:  4  Time elapse (min):  0.0930957039197286 ============================================\n",
      "The 18th episode\n",
      "============================================\n",
      "PMC004XXXXXX.xml\\PMC0048XXXXX\\PMC4873426.xml\n",
      "# of papers to read:  4  Time elapse (min):  0.09387162129084269 ============================================\n",
      "The 19th episode\n",
      "============================================\n",
      "PMC004XXXXXX.xml\\PMC0048XXXXX\\PMC4873426.xml\n",
      "# of papers to read:  4  Time elapse (min):  0.09451335271199544 ============================================\n",
      "The 20th episode\n",
      "============================================\n",
      "PMC004XXXXXX.xml\\PMC0048XXXXX\\PMC4873426.xml\n"
     ]
    },
    {
     "name": "stderr",
     "output_type": "stream",
     "text": [
      "  0%|          | 2/414 [00:00<00:06, 68.24it/s]\n",
      "  0%|          | 2/414 [00:00<00:05, 70.42it/s]\n",
      "  0%|          | 2/414 [00:00<00:05, 70.40it/s]\n",
      "  0%|          | 2/414 [00:00<00:06, 61.04it/s]\n",
      "  0%|          | 0/414 [00:00<?, ?it/s]"
     ]
    },
    {
     "name": "stdout",
     "output_type": "stream",
     "text": [
      "# of papers to read:  4  Time elapse (min):  0.09522280295689901 ============================================\n",
      "The 21th episode\n",
      "============================================\n",
      "PMC004XXXXXX.xml\\PMC0048XXXXX\\PMC4873426.xml\n",
      "# of papers to read:  4  Time elapse (min):  0.09587228695551554 ============================================\n",
      "The 22th episode\n",
      "============================================\n",
      "PMC004XXXXXX.xml\\PMC0048XXXXX\\PMC4873426.xml\n",
      "# of papers to read:  4  Time elapse (min):  0.09649563233057658 ============================================\n",
      "The 23th episode\n",
      "============================================\n",
      "PMC004XXXXXX.xml\\PMC0048XXXXX\\PMC4873426.xml\n",
      "# of papers to read:  4  Time elapse (min):  0.097181769212087 ============================================\n",
      "The 24th episode\n",
      "============================================\n",
      "PMC004XXXXXX.xml\\PMC0048XXXXX\\PMC4873426.xml\n"
     ]
    },
    {
     "name": "stderr",
     "output_type": "stream",
     "text": [
      "  6%|▌         | 24/414 [00:00<00:04, 90.24it/s]\n",
      "  0%|          | 2/414 [00:00<00:05, 69.87it/s]\n",
      "  0%|          | 2/414 [00:00<00:06, 65.96it/s]\n",
      "  3%|▎         | 12/414 [00:00<00:03, 110.98it/s]"
     ]
    },
    {
     "name": "stdout",
     "output_type": "stream",
     "text": [
      "# of papers to read:  26  Time elapse (min):  0.10178721745808919 ============================================\n",
      "The 25th episode\n",
      "============================================\n",
      "PMC004XXXXXX.xml\\PMC0048XXXXX\\PMC4873426.xml\n",
      "# of papers to read:  4  Time elapse (min):  0.10240788459777832 ============================================\n",
      "The 26th episode\n",
      "============================================\n",
      "PMC004XXXXXX.xml\\PMC0048XXXXX\\PMC4873426.xml\n",
      "# of papers to read:  4  Time elapse (min):  0.10308595101038615 ============================================\n",
      "The 27th episode\n",
      "============================================\n",
      "PMC004XXXXXX.xml\\PMC0048XXXXX\\PMC4873426.xml\n"
     ]
    },
    {
     "name": "stderr",
     "output_type": "stream",
     "text": [
      "  8%|▊         | 33/414 [00:00<00:05, 70.38it/s] \n",
      "  0%|          | 0/414 [00:00<?, ?it/s]"
     ]
    },
    {
     "name": "stdout",
     "output_type": "stream",
     "text": [
      "# of papers to read:  35  Time elapse (min):  0.1111253023147583 ============================================\n",
      "The 28th episode\n",
      "============================================\n",
      "PMC004XXXXXX.xml\\PMC0048XXXXX\\PMC4873426.xml\n"
     ]
    },
    {
     "name": "stderr",
     "output_type": "stream",
     "text": [
      "  0%|          | 2/414 [00:00<00:45,  9.03it/s]\n",
      "  2%|▏         | 9/414 [00:00<00:04, 86.53it/s]"
     ]
    },
    {
     "name": "stdout",
     "output_type": "stream",
     "text": [
      "# of papers to read:  4  Time elapse (min):  0.11610740025838216 ============================================\n",
      "The 29th episode\n",
      "============================================\n",
      "PMC004XXXXXX.xml\\PMC0048XXXXX\\PMC4873426.xml\n"
     ]
    },
    {
     "name": "stderr",
     "output_type": "stream",
     "text": [
      " 20%|█▉        | 81/414 [00:01<00:05, 66.12it/s]\n",
      "  2%|▏         | 10/525 [00:00<00:05, 96.02it/s]"
     ]
    },
    {
     "name": "stdout",
     "output_type": "stream",
     "text": [
      "# of papers to read:  83  Time elapse (min):  0.13673231999079385 ============================================\n",
      "Starting Converting:\n",
      "End of Converting.\n",
      "# drug: tamoxifen ###############\n",
      "# Total: 526 ##############\n",
      "##########################\n",
      "The 0th episode\n",
      "============================================\n",
      "PMC003XXXXXX.xml\\PMC0037XXXXX\\PMC3711713.xml\n"
     ]
    },
    {
     "name": "stderr",
     "output_type": "stream",
     "text": [
      "  6%|▌         | 30/525 [00:00<00:05, 88.54it/s]\n",
      "  2%|▏         | 11/525 [00:00<00:05, 102.71it/s]"
     ]
    },
    {
     "name": "stdout",
     "output_type": "stream",
     "text": [
      "# of papers to read:  32  Time elapse (min):  0.0058507164319356285 ============================================\n",
      "The 1th episode\n",
      "============================================\n",
      "PMC003XXXXXX.xml\\PMC0037XXXXX\\PMC3711713.xml\n"
     ]
    },
    {
     "name": "stderr",
     "output_type": "stream",
     "text": [
      "  6%|▋         | 33/525 [00:00<00:05, 97.03it/s] \n",
      "  2%|▏         | 9/525 [00:00<00:05, 87.01it/s]"
     ]
    },
    {
     "name": "stdout",
     "output_type": "stream",
     "text": [
      "# of papers to read:  35  Time elapse (min):  0.01166531244913737 ============================================\n",
      "The 2th episode\n",
      "============================================\n",
      "PMC003XXXXXX.xml\\PMC0037XXXXX\\PMC3711713.xml\n"
     ]
    },
    {
     "name": "stderr",
     "output_type": "stream",
     "text": [
      "  8%|▊         | 40/525 [00:00<00:05, 92.77it/s]\n",
      "  2%|▏         | 10/525 [00:00<00:05, 95.75it/s]"
     ]
    },
    {
     "name": "stdout",
     "output_type": "stream",
     "text": [
      "# of papers to read:  42  Time elapse (min):  0.019002199172973633 ============================================\n",
      "The 3th episode\n",
      "============================================\n",
      "PMC003XXXXXX.xml\\PMC0037XXXXX\\PMC3711713.xml\n"
     ]
    },
    {
     "name": "stderr",
     "output_type": "stream",
     "text": [
      "  9%|▊         | 45/525 [00:00<00:05, 92.94it/s]\n",
      "  2%|▏         | 10/525 [00:00<00:05, 94.65it/s]"
     ]
    },
    {
     "name": "stdout",
     "output_type": "stream",
     "text": [
      "# of papers to read:  47  Time elapse (min):  0.027220467726389568 ============================================\n",
      "The 4th episode\n",
      "============================================\n",
      "PMC003XXXXXX.xml\\PMC0037XXXXX\\PMC3711713.xml\n"
     ]
    },
    {
     "name": "stderr",
     "output_type": "stream",
     "text": [
      " 31%|███       | 163/525 [00:04<00:09, 38.64it/s]\n",
      "  2%|▏         | 10/525 [00:00<00:05, 90.79it/s]"
     ]
    },
    {
     "name": "stdout",
     "output_type": "stream",
     "text": [
      "# of papers to read:  165  Time elapse (min):  0.09772521654764811 ============================================\n",
      "The 5th episode\n",
      "============================================\n",
      "PMC003XXXXXX.xml\\PMC0037XXXXX\\PMC3711713.xml\n"
     ]
    },
    {
     "name": "stderr",
     "output_type": "stream",
     "text": [
      "  7%|▋         | 35/525 [00:00<00:06, 75.84it/s]\n",
      "  2%|▏         | 9/525 [00:00<00:06, 85.87it/s]"
     ]
    },
    {
     "name": "stdout",
     "output_type": "stream",
     "text": [
      "# of papers to read:  37  Time elapse (min):  0.10560566584269206 ============================================\n",
      "The 6th episode\n",
      "============================================\n",
      "PMC003XXXXXX.xml\\PMC0037XXXXX\\PMC3711713.xml\n"
     ]
    },
    {
     "name": "stderr",
     "output_type": "stream",
     "text": [
      " 30%|███       | 160/525 [00:02<00:06, 59.70it/s]\n",
      "  2%|▏         | 10/525 [00:00<00:05, 90.72it/s]"
     ]
    },
    {
     "name": "stdout",
     "output_type": "stream",
     "text": [
      "# of papers to read:  162  Time elapse (min):  0.15042609771092733 ============================================\n",
      "The 7th episode\n",
      "============================================\n",
      "PMC003XXXXXX.xml\\PMC0037XXXXX\\PMC3711713.xml\n"
     ]
    },
    {
     "name": "stderr",
     "output_type": "stream",
     "text": [
      "  5%|▌         | 28/525 [00:00<00:05, 83.53it/s]\n",
      "  2%|▏         | 9/525 [00:00<00:06, 84.41it/s]"
     ]
    },
    {
     "name": "stdout",
     "output_type": "stream",
     "text": [
      "# of papers to read:  30  Time elapse (min):  0.15618569850921632 ============================================\n",
      "The 8th episode\n",
      "============================================\n",
      "PMC003XXXXXX.xml\\PMC0037XXXXX\\PMC3711713.xml\n"
     ]
    },
    {
     "name": "stderr",
     "output_type": "stream",
     "text": [
      " 11%|█         | 59/525 [00:00<00:06, 72.90it/s]\n",
      "  2%|▏         | 8/525 [00:00<00:06, 77.55it/s]"
     ]
    },
    {
     "name": "stdout",
     "output_type": "stream",
     "text": [
      "# of papers to read:  61  Time elapse (min):  0.16983273426691692 ============================================\n",
      "The 9th episode\n",
      "============================================\n",
      "PMC003XXXXXX.xml\\PMC0037XXXXX\\PMC3711713.xml\n"
     ]
    },
    {
     "name": "stderr",
     "output_type": "stream",
     "text": [
      " 32%|███▏      | 166/525 [00:01<00:04, 87.69it/s]\n",
      "  2%|▏         | 9/525 [00:00<00:05, 86.99it/s]"
     ]
    },
    {
     "name": "stdout",
     "output_type": "stream",
     "text": [
      "# of papers to read:  168  Time elapse (min):  0.20166751543680828 ============================================\n",
      "The 10th episode\n",
      "============================================\n",
      "PMC003XXXXXX.xml\\PMC0037XXXXX\\PMC3711713.xml\n"
     ]
    },
    {
     "name": "stderr",
     "output_type": "stream",
     "text": [
      "  7%|▋         | 35/525 [00:00<00:05, 86.98it/s]\n",
      "  2%|▏         | 10/525 [00:00<00:05, 98.37it/s]"
     ]
    },
    {
     "name": "stdout",
     "output_type": "stream",
     "text": [
      "# of papers to read:  37  Time elapse (min):  0.20853000084559123 ============================================\n",
      "The 11th episode\n",
      "============================================\n",
      "PMC003XXXXXX.xml\\PMC0037XXXXX\\PMC3711713.xml\n"
     ]
    },
    {
     "name": "stderr",
     "output_type": "stream",
     "text": [
      " 27%|██▋       | 141/525 [00:02<00:06, 57.84it/s]\n",
      "  0%|          | 0/525 [00:00<?, ?it/s]"
     ]
    },
    {
     "name": "stdout",
     "output_type": "stream",
     "text": [
      "# of papers to read:  143  Time elapse (min):  0.24943671226501465 ============================================\n",
      "The 12th episode\n",
      "============================================\n",
      "PMC003XXXXXX.xml\\PMC0037XXXXX\\PMC3711713.xml\n"
     ]
    },
    {
     "name": "stderr",
     "output_type": "stream",
     "text": [
      " 31%|███       | 164/525 [00:03<00:08, 41.92it/s]\n",
      "  2%|▏         | 10/525 [00:00<00:05, 92.91it/s]"
     ]
    },
    {
     "name": "stdout",
     "output_type": "stream",
     "text": [
      "# of papers to read:  166  Time elapse (min):  0.31502724885940553 ============================================\n",
      "The 13th episode\n",
      "============================================\n",
      "PMC003XXXXXX.xml\\PMC0037XXXXX\\PMC3711713.xml\n"
     ]
    },
    {
     "name": "stderr",
     "output_type": "stream",
     "text": [
      "  9%|▉         | 46/525 [00:00<00:06, 75.51it/s]\n",
      "  2%|▏         | 9/525 [00:00<00:05, 89.13it/s]"
     ]
    },
    {
     "name": "stdout",
     "output_type": "stream",
     "text": [
      "# of papers to read:  48  Time elapse (min):  0.3253513177235921 ============================================\n",
      "The 14th episode\n",
      "============================================\n",
      "PMC003XXXXXX.xml\\PMC0037XXXXX\\PMC3711713.xml\n"
     ]
    },
    {
     "name": "stderr",
     "output_type": "stream",
     "text": [
      "  7%|▋         | 37/525 [00:00<00:05, 93.46it/s]\n",
      "  2%|▏         | 10/525 [00:00<00:05, 97.87it/s]"
     ]
    },
    {
     "name": "stdout",
     "output_type": "stream",
     "text": [
      "# of papers to read:  39  Time elapse (min):  0.3321387489636739 ============================================\n",
      "The 15th episode\n",
      "============================================\n",
      "PMC003XXXXXX.xml\\PMC0037XXXXX\\PMC3711713.xml\n"
     ]
    },
    {
     "name": "stderr",
     "output_type": "stream",
     "text": [
      " 19%|█▊        | 98/525 [00:01<00:07, 58.61it/s]\n",
      "  2%|▏         | 10/525 [00:00<00:05, 99.91it/s]"
     ]
    },
    {
     "name": "stdout",
     "output_type": "stream",
     "text": [
      "# of papers to read:  100  Time elapse (min):  0.3601553479830424 ============================================\n",
      "The 16th episode\n",
      "============================================\n",
      "PMC003XXXXXX.xml\\PMC0037XXXXX\\PMC3711713.xml\n"
     ]
    },
    {
     "name": "stderr",
     "output_type": "stream",
     "text": [
      "  9%|▉         | 49/525 [00:00<00:05, 87.14it/s]\n",
      "  2%|▏         | 10/525 [00:00<00:05, 92.95it/s]"
     ]
    },
    {
     "name": "stdout",
     "output_type": "stream",
     "text": [
      "# of papers to read:  51  Time elapse (min):  0.369667915503184 ============================================\n",
      "The 17th episode\n",
      "============================================\n",
      "PMC003XXXXXX.xml\\PMC0037XXXXX\\PMC3711713.xml\n"
     ]
    },
    {
     "name": "stderr",
     "output_type": "stream",
     "text": [
      "  4%|▍         | 22/525 [00:00<00:05, 93.77it/s]\n",
      "  2%|▏         | 10/525 [00:00<00:05, 91.52it/s]"
     ]
    },
    {
     "name": "stdout",
     "output_type": "stream",
     "text": [
      "# of papers to read:  24  Time elapse (min):  0.3737310965855916 ============================================\n",
      "The 18th episode\n",
      "============================================\n",
      "PMC003XXXXXX.xml\\PMC0037XXXXX\\PMC3711713.xml\n"
     ]
    },
    {
     "name": "stderr",
     "output_type": "stream",
     "text": [
      "  7%|▋         | 37/525 [00:00<00:05, 94.44it/s]\n",
      "  2%|▏         | 10/525 [00:00<00:05, 96.72it/s]"
     ]
    },
    {
     "name": "stdout",
     "output_type": "stream",
     "text": [
      "# of papers to read:  39  Time elapse (min):  0.38040361801783246 ============================================\n",
      "The 19th episode\n",
      "============================================\n",
      "PMC003XXXXXX.xml\\PMC0037XXXXX\\PMC3711713.xml\n"
     ]
    },
    {
     "name": "stderr",
     "output_type": "stream",
     "text": [
      " 10%|█         | 53/525 [00:00<00:04, 98.94it/s] \n",
      "  2%|▏         | 11/525 [00:00<00:05, 100.06it/s]"
     ]
    },
    {
     "name": "stdout",
     "output_type": "stream",
     "text": [
      "# of papers to read:  55  Time elapse (min):  0.38948575258255 ============================================\n",
      "The 20th episode\n",
      "============================================\n",
      "PMC003XXXXXX.xml\\PMC0037XXXXX\\PMC3711713.xml\n"
     ]
    },
    {
     "name": "stderr",
     "output_type": "stream",
     "text": [
      " 22%|██▏       | 116/525 [00:01<00:04, 93.96it/s]\n",
      "  2%|▏         | 9/525 [00:00<00:05, 88.88it/s]"
     ]
    },
    {
     "name": "stdout",
     "output_type": "stream",
     "text": [
      "# of papers to read:  118  Time elapse (min):  0.410209862391154 ============================================\n",
      "The 21th episode\n",
      "============================================\n",
      "PMC003XXXXXX.xml\\PMC0037XXXXX\\PMC3711713.xml\n"
     ]
    },
    {
     "name": "stderr",
     "output_type": "stream",
     "text": [
      " 22%|██▏       | 113/525 [00:01<00:04, 96.80it/s]\n",
      "  2%|▏         | 10/525 [00:00<00:05, 96.90it/s]"
     ]
    },
    {
     "name": "stdout",
     "output_type": "stream",
     "text": [
      "# of papers to read:  115  Time elapse (min):  0.4298561652501424 ============================================\n",
      "The 22th episode\n",
      "============================================\n",
      "PMC003XXXXXX.xml\\PMC0037XXXXX\\PMC3711713.xml\n"
     ]
    },
    {
     "name": "stderr",
     "output_type": "stream",
     "text": [
      "  9%|▊         | 45/525 [00:00<00:04, 99.03it/s] \n",
      "  2%|▏         | 10/525 [00:00<00:06, 80.45it/s]"
     ]
    },
    {
     "name": "stdout",
     "output_type": "stream",
     "text": [
      "# of papers to read:  47  Time elapse (min):  0.437579349676768 ============================================\n",
      "The 23th episode\n",
      "============================================\n",
      "PMC003XXXXXX.xml\\PMC0037XXXXX\\PMC3711713.xml\n"
     ]
    },
    {
     "name": "stderr",
     "output_type": "stream",
     "text": [
      " 36%|███▌      | 187/525 [00:02<00:04, 82.94it/s]\n",
      "  1%|          | 6/525 [00:00<00:09, 55.48it/s]"
     ]
    },
    {
     "name": "stdout",
     "output_type": "stream",
     "text": [
      "# of papers to read:  189  Time elapse (min):  0.47531950076421103 ============================================\n",
      "The 24th episode\n",
      "============================================\n",
      "PMC003XXXXXX.xml\\PMC0037XXXXX\\PMC3711713.xml\n"
     ]
    },
    {
     "name": "stderr",
     "output_type": "stream",
     "text": [
      " 36%|███▌      | 189/525 [00:02<00:04, 68.99it/s]\n",
      "  2%|▏         | 9/525 [00:00<00:05, 87.70it/s]"
     ]
    },
    {
     "name": "stdout",
     "output_type": "stream",
     "text": [
      "# of papers to read:  191  Time elapse (min):  0.5212316672007243 ============================================\n",
      "The 25th episode\n",
      "============================================\n",
      "PMC003XXXXXX.xml\\PMC0037XXXXX\\PMC3711713.xml\n"
     ]
    },
    {
     "name": "stderr",
     "output_type": "stream",
     "text": [
      "  6%|▋         | 34/525 [00:00<00:06, 74.50it/s]\n",
      "  2%|▏         | 8/525 [00:00<00:06, 79.82it/s]"
     ]
    },
    {
     "name": "stdout",
     "output_type": "stream",
     "text": [
      "# of papers to read:  36  Time elapse (min):  0.5290044824282328 ============================================\n",
      "The 26th episode\n",
      "============================================\n",
      "PMC003XXXXXX.xml\\PMC0037XXXXX\\PMC3711713.xml\n"
     ]
    },
    {
     "name": "stderr",
     "output_type": "stream",
     "text": [
      " 25%|██▌       | 133/525 [00:02<00:06, 64.28it/s]\n",
      "  2%|▏         | 9/525 [00:00<00:06, 81.88it/s]"
     ]
    },
    {
     "name": "stdout",
     "output_type": "stream",
     "text": [
      "# of papers to read:  135  Time elapse (min):  0.5637273788452148 ============================================\n",
      "The 27th episode\n",
      "============================================\n",
      "PMC003XXXXXX.xml\\PMC0037XXXXX\\PMC3711713.xml\n"
     ]
    },
    {
     "name": "stderr",
     "output_type": "stream",
     "text": [
      "  7%|▋         | 37/525 [00:00<00:10, 44.44it/s]\n",
      "  1%|          | 6/525 [00:00<00:08, 58.51it/s]"
     ]
    },
    {
     "name": "stdout",
     "output_type": "stream",
     "text": [
      "# of papers to read:  39  Time elapse (min):  0.5777989506721497 ============================================\n",
      "The 28th episode\n",
      "============================================\n",
      "PMC003XXXXXX.xml\\PMC0037XXXXX\\PMC3711713.xml\n"
     ]
    },
    {
     "name": "stderr",
     "output_type": "stream",
     "text": [
      "  9%|▉         | 46/525 [00:00<00:10, 46.65it/s]\n",
      "  1%|          | 6/525 [00:00<00:09, 56.32it/s]"
     ]
    },
    {
     "name": "stdout",
     "output_type": "stream",
     "text": [
      "# of papers to read:  48  Time elapse (min):  0.5948166012763977 ============================================\n",
      "The 29th episode\n",
      "============================================\n",
      "PMC003XXXXXX.xml\\PMC0037XXXXX\\PMC3711713.xml\n"
     ]
    },
    {
     "name": "stderr",
     "output_type": "stream",
     "text": [
      " 28%|██▊       | 149/525 [00:02<00:07, 50.29it/s]\n",
      "  2%|▏         | 9/564 [00:00<00:06, 80.97it/s]"
     ]
    },
    {
     "name": "stdout",
     "output_type": "stream",
     "text": [
      "# of papers to read:  151  Time elapse (min):  0.6445780316988627 ============================================\n",
      "Starting Converting:\n",
      "End of Converting.\n",
      "# drug: dexamethasone ###############\n",
      "# Total: 565 ##############\n",
      "##########################\n",
      "The 0th episode\n",
      "============================================\n",
      "PMC004XXXXXX.xml\\PMC0044XXXXX\\PMC4422178.xml\n"
     ]
    },
    {
     "name": "stderr",
     "output_type": "stream",
     "text": [
      " 19%|█▉        | 109/564 [00:01<00:06, 69.15it/s]\n",
      "  1%|          | 3/564 [00:00<00:23, 23.68it/s]"
     ]
    },
    {
     "name": "stdout",
     "output_type": "stream",
     "text": [
      "# of papers to read:  111  Time elapse (min):  0.026505982875823973 ============================================\n",
      "The 1th episode\n",
      "============================================\n",
      "PMC004XXXXXX.xml\\PMC0044XXXXX\\PMC4422178.xml\n"
     ]
    },
    {
     "name": "stderr",
     "output_type": "stream",
     "text": [
      "  3%|▎         | 16/564 [00:00<00:13, 40.37it/s]\n",
      "  2%|▏         | 9/564 [00:00<00:06, 80.84it/s]"
     ]
    },
    {
     "name": "stdout",
     "output_type": "stream",
     "text": [
      "# of papers to read:  18  Time elapse (min):  0.03335815270741781 ============================================\n",
      "The 2th episode\n",
      "============================================\n",
      "PMC004XXXXXX.xml\\PMC0044XXXXX\\PMC4422178.xml\n"
     ]
    },
    {
     "name": "stderr",
     "output_type": "stream",
     "text": [
      "  3%|▎         | 16/564 [00:00<00:07, 76.19it/s]\n",
      "  2%|▏         | 10/564 [00:00<00:06, 86.65it/s]"
     ]
    },
    {
     "name": "stdout",
     "output_type": "stream",
     "text": [
      "# of papers to read:  18  Time elapse (min):  0.037007649739583336 ============================================\n",
      "The 3th episode\n",
      "============================================\n",
      "PMC004XXXXXX.xml\\PMC0044XXXXX\\PMC4422178.xml\n"
     ]
    },
    {
     "name": "stderr",
     "output_type": "stream",
     "text": [
      " 23%|██▎       | 132/564 [00:01<00:06, 68.84it/s]\n",
      "  3%|▎         | 16/564 [00:00<00:06, 82.53it/s]\n"
     ]
    },
    {
     "name": "stdout",
     "output_type": "stream",
     "text": [
      "# of papers to read:  134  Time elapse (min):  0.06916408141454061 ============================================\n",
      "The 4th episode\n",
      "============================================\n",
      "PMC004XXXXXX.xml\\PMC0044XXXXX\\PMC4422178.xml\n",
      "# of papers to read:  18  Time elapse (min):  0.0726090669631958 ============================================\n",
      "The 5th episode\n",
      "============================================\n",
      "PMC004XXXXXX.xml\\PMC0044XXXXX\\PMC4422178.xml\n"
     ]
    },
    {
     "name": "stderr",
     "output_type": "stream",
     "text": [
      " 36%|███▌      | 201/564 [00:02<00:04, 79.53it/s]\n",
      "  2%|▏         | 10/564 [00:00<00:05, 94.13it/s]"
     ]
    },
    {
     "name": "stdout",
     "output_type": "stream",
     "text": [
      "# of papers to read:  203  Time elapse (min):  0.11488958199818929 ============================================\n",
      "The 6th episode\n",
      "============================================\n",
      "PMC004XXXXXX.xml\\PMC0044XXXXX\\PMC4422178.xml\n"
     ]
    },
    {
     "name": "stderr",
     "output_type": "stream",
     "text": [
      "  3%|▎         | 16/564 [00:00<00:06, 78.93it/s]\n",
      "  1%|          | 4/564 [00:00<00:16, 33.98it/s]"
     ]
    },
    {
     "name": "stdout",
     "output_type": "stream",
     "text": [
      "# of papers to read:  18  Time elapse (min):  0.11864283084869384 ============================================\n",
      "The 7th episode\n",
      "============================================\n",
      "PMC004XXXXXX.xml\\PMC0044XXXXX\\PMC4422178.xml\n"
     ]
    },
    {
     "name": "stderr",
     "output_type": "stream",
     "text": [
      "  3%|▎         | 16/564 [00:00<00:12, 43.60it/s]\n",
      "  3%|▎         | 16/564 [00:00<00:06, 85.89it/s]\n",
      "  0%|          | 0/564 [00:00<?, ?it/s]"
     ]
    },
    {
     "name": "stdout",
     "output_type": "stream",
     "text": [
      "# of papers to read:  18  Time elapse (min):  0.12509244680404663 ============================================\n",
      "The 8th episode\n",
      "============================================\n",
      "PMC004XXXXXX.xml\\PMC0044XXXXX\\PMC4422178.xml\n",
      "# of papers to read:  18  Time elapse (min):  0.12834421396255494 ============================================\n",
      "The 9th episode\n",
      "============================================\n",
      "PMC004XXXXXX.xml\\PMC0044XXXXX\\PMC4422178.xml\n"
     ]
    },
    {
     "name": "stderr",
     "output_type": "stream",
     "text": [
      "  3%|▎         | 16/564 [00:00<00:06, 78.88it/s]\n",
      "  2%|▏         | 9/564 [00:00<00:07, 69.83it/s]"
     ]
    },
    {
     "name": "stdout",
     "output_type": "stream",
     "text": [
      "# of papers to read:  18  Time elapse (min):  0.13195828199386597 ============================================\n",
      "The 10th episode\n",
      "============================================\n",
      "PMC004XXXXXX.xml\\PMC0044XXXXX\\PMC4422178.xml\n"
     ]
    },
    {
     "name": "stderr",
     "output_type": "stream",
     "text": [
      " 28%|██▊       | 156/564 [00:02<00:05, 75.03it/s]\n",
      "  1%|          | 5/564 [00:00<00:12, 45.00it/s]"
     ]
    },
    {
     "name": "stdout",
     "output_type": "stream",
     "text": [
      "# of papers to read:  158  Time elapse (min):  0.16676408052444458 ============================================\n",
      "The 11th episode\n",
      "============================================\n",
      "PMC004XXXXXX.xml\\PMC0044XXXXX\\PMC4422178.xml\n"
     ]
    },
    {
     "name": "stderr",
     "output_type": "stream",
     "text": [
      " 37%|███▋      | 209/564 [00:03<00:05, 62.66it/s]\n",
      "  2%|▏         | 9/564 [00:00<00:08, 64.47it/s]"
     ]
    },
    {
     "name": "stdout",
     "output_type": "stream",
     "text": [
      "# of papers to read:  211  Time elapse (min):  0.22252931594848632 ============================================\n",
      "The 12th episode\n",
      "============================================\n",
      "PMC004XXXXXX.xml\\PMC0044XXXXX\\PMC4422178.xml\n"
     ]
    },
    {
     "name": "stderr",
     "output_type": "stream",
     "text": [
      " 10%|█         | 57/564 [00:00<00:06, 76.61it/s]\n",
      "  2%|▏         | 10/564 [00:00<00:05, 93.89it/s]"
     ]
    },
    {
     "name": "stdout",
     "output_type": "stream",
     "text": [
      "# of papers to read:  59  Time elapse (min):  0.23507033586502074 ============================================\n",
      "The 13th episode\n",
      "============================================\n",
      "PMC004XXXXXX.xml\\PMC0044XXXXX\\PMC4422178.xml\n"
     ]
    },
    {
     "name": "stderr",
     "output_type": "stream",
     "text": [
      " 10%|█         | 58/564 [00:00<00:06, 77.60it/s]\n",
      "  1%|          | 4/564 [00:00<00:14, 39.89it/s]"
     ]
    },
    {
     "name": "stdout",
     "output_type": "stream",
     "text": [
      "# of papers to read:  60  Time elapse (min):  0.24767988125483195 ============================================\n",
      "The 14th episode\n",
      "============================================\n",
      "PMC004XXXXXX.xml\\PMC0044XXXXX\\PMC4422178.xml\n"
     ]
    },
    {
     "name": "stderr",
     "output_type": "stream",
     "text": [
      "  3%|▎         | 16/564 [00:00<00:08, 61.98it/s]\n",
      "  2%|▏         | 10/564 [00:00<00:05, 99.87it/s]"
     ]
    },
    {
     "name": "stdout",
     "output_type": "stream",
     "text": [
      "# of papers to read:  18  Time elapse (min):  0.25217825174331665 ============================================\n",
      "The 15th episode\n",
      "============================================\n",
      "PMC004XXXXXX.xml\\PMC0044XXXXX\\PMC4422178.xml\n"
     ]
    },
    {
     "name": "stderr",
     "output_type": "stream",
     "text": [
      " 53%|█████▎    | 300/564 [00:03<00:03, 79.83it/s]\n",
      "  1%|          | 4/564 [00:00<00:19, 28.01it/s]"
     ]
    },
    {
     "name": "stdout",
     "output_type": "stream",
     "text": [
      "# of papers to read:  302  Time elapse (min):  0.3150670846303304 ============================================\n",
      "The 16th episode\n",
      "============================================\n",
      "PMC004XXXXXX.xml\\PMC0044XXXXX\\PMC4422178.xml\n"
     ]
    },
    {
     "name": "stderr",
     "output_type": "stream",
     "text": [
      " 25%|██▌       | 142/564 [00:01<00:05, 77.61it/s]\n",
      "  3%|▎         | 16/564 [00:00<00:06, 91.32it/s]\n",
      "  0%|          | 0/564 [00:00<?, ?it/s]"
     ]
    },
    {
     "name": "stdout",
     "output_type": "stream",
     "text": [
      "# of papers to read:  144  Time elapse (min):  0.34599451621373495 ============================================\n",
      "The 17th episode\n",
      "============================================\n",
      "PMC004XXXXXX.xml\\PMC0044XXXXX\\PMC4422178.xml\n",
      "# of papers to read:  18  Time elapse (min):  0.3490577459335327 ============================================\n",
      "The 18th episode\n",
      "============================================\n",
      "PMC004XXXXXX.xml\\PMC0044XXXXX\\PMC4422178.xml\n"
     ]
    },
    {
     "name": "stderr",
     "output_type": "stream",
     "text": [
      " 25%|██▍       | 140/564 [00:01<00:05, 71.10it/s]\n",
      "  2%|▏         | 9/564 [00:00<00:06, 85.57it/s]"
     ]
    },
    {
     "name": "stdout",
     "output_type": "stream",
     "text": [
      "# of papers to read:  142  Time elapse (min):  0.3820395986239115 ============================================\n",
      "The 19th episode\n",
      "============================================\n",
      "PMC004XXXXXX.xml\\PMC0044XXXXX\\PMC4422178.xml\n"
     ]
    },
    {
     "name": "stderr",
     "output_type": "stream",
     "text": [
      "  3%|▎         | 16/564 [00:00<00:06, 82.04it/s]\n",
      "  3%|▎         | 16/564 [00:00<00:06, 83.88it/s]\n"
     ]
    },
    {
     "name": "stdout",
     "output_type": "stream",
     "text": [
      "# of papers to read:  18  Time elapse (min):  0.38544694979985555 ============================================\n",
      "The 20th episode\n",
      "============================================\n",
      "PMC004XXXXXX.xml\\PMC0044XXXXX\\PMC4422178.xml\n",
      "# of papers to read:  18  Time elapse (min):  0.3887932499249776 ============================================\n",
      "The 21th episode\n",
      "============================================\n",
      "PMC004XXXXXX.xml\\PMC0044XXXXX\\PMC4422178.xml\n"
     ]
    },
    {
     "name": "stderr",
     "output_type": "stream",
     "text": [
      "  3%|▎         | 16/564 [00:00<00:06, 87.04it/s]\n",
      "  3%|▎         | 16/564 [00:00<00:06, 86.05it/s]\n",
      "  0%|          | 0/564 [00:00<?, ?it/s]"
     ]
    },
    {
     "name": "stdout",
     "output_type": "stream",
     "text": [
      "# of papers to read:  18  Time elapse (min):  0.39204296271006267 ============================================\n",
      "The 22th episode\n",
      "============================================\n",
      "PMC004XXXXXX.xml\\PMC0044XXXXX\\PMC4422178.xml\n",
      "# of papers to read:  18  Time elapse (min):  0.3952816327412923 ============================================\n",
      "The 23th episode\n",
      "============================================\n",
      "PMC004XXXXXX.xml\\PMC0044XXXXX\\PMC4422178.xml\n"
     ]
    },
    {
     "name": "stderr",
     "output_type": "stream",
     "text": [
      "  3%|▎         | 16/564 [00:00<00:06, 89.50it/s]\n",
      "  3%|▎         | 16/564 [00:00<00:06, 89.15it/s]\n",
      "  0%|          | 0/564 [00:00<?, ?it/s]"
     ]
    },
    {
     "name": "stdout",
     "output_type": "stream",
     "text": [
      "# of papers to read:  18  Time elapse (min):  0.3984084685643514 ============================================\n",
      "The 24th episode\n",
      "============================================\n",
      "PMC004XXXXXX.xml\\PMC0044XXXXX\\PMC4422178.xml\n",
      "# of papers to read:  18  Time elapse (min):  0.4015425642331441 ============================================\n",
      "The 25th episode\n",
      "============================================\n",
      "PMC004XXXXXX.xml\\PMC0044XXXXX\\PMC4422178.xml\n"
     ]
    },
    {
     "name": "stderr",
     "output_type": "stream",
     "text": [
      "  3%|▎         | 16/564 [00:00<00:06, 88.12it/s]\n",
      "  1%|▏         | 8/564 [00:00<00:07, 74.10it/s]"
     ]
    },
    {
     "name": "stdout",
     "output_type": "stream",
     "text": [
      "# of papers to read:  18  Time elapse (min):  0.40470589796702067 ============================================\n",
      "The 26th episode\n",
      "============================================\n",
      "PMC004XXXXXX.xml\\PMC0044XXXXX\\PMC4422178.xml\n"
     ]
    },
    {
     "name": "stderr",
     "output_type": "stream",
     "text": [
      "  3%|▎         | 16/564 [00:00<00:07, 77.91it/s]\n",
      "  2%|▏         | 9/564 [00:00<00:06, 87.97it/s]"
     ]
    },
    {
     "name": "stdout",
     "output_type": "stream",
     "text": [
      "# of papers to read:  18  Time elapse (min):  0.4083560466766357 ============================================\n",
      "The 27th episode\n",
      "============================================\n",
      "PMC004XXXXXX.xml\\PMC0044XXXXX\\PMC4422178.xml\n"
     ]
    },
    {
     "name": "stderr",
     "output_type": "stream",
     "text": [
      " 35%|███▌      | 198/564 [00:02<00:04, 76.15it/s]\n",
      "  2%|▏         | 11/564 [00:00<00:05, 99.47it/s]"
     ]
    },
    {
     "name": "stdout",
     "output_type": "stream",
     "text": [
      "# of papers to read:  200  Time elapse (min):  0.4518300135930379 ============================================\n",
      "The 28th episode\n",
      "============================================\n",
      "PMC004XXXXXX.xml\\PMC0044XXXXX\\PMC4422178.xml\n"
     ]
    },
    {
     "name": "stderr",
     "output_type": "stream",
     "text": [
      " 35%|███▌      | 200/564 [00:03<00:05, 61.21it/s]\n",
      "  3%|▎         | 16/564 [00:00<00:06, 89.82it/s]\n"
     ]
    },
    {
     "name": "stdout",
     "output_type": "stream",
     "text": [
      "# of papers to read:  202  Time elapse (min):  0.5064464648564656 ============================================\n",
      "The 29th episode\n",
      "============================================\n",
      "PMC004XXXXXX.xml\\PMC0044XXXXX\\PMC4422178.xml\n",
      "# of papers to read:  18  Time elapse (min):  0.5095656156539917 ============================================\n",
      "Starting Converting:\n"
     ]
    },
    {
     "name": "stderr",
     "output_type": "stream",
     "text": [
      "  1%|          | 8/803 [00:00<00:11, 71.19it/s]"
     ]
    },
    {
     "name": "stdout",
     "output_type": "stream",
     "text": [
      "End of Converting.\n",
      "# drug: doxorubicin ###############\n",
      "# Total: 804 ##############\n",
      "##########################\n",
      "The 0th episode\n",
      "============================================\n",
      "PMC003XXXXXX.xml\\PMC0032XXXXX\\PMC3298037.xml\n"
     ]
    },
    {
     "name": "stderr",
     "output_type": "stream",
     "text": [
      " 87%|████████▋ | 697/803 [00:11<00:01, 60.62it/s]\n",
      "  1%|          | 9/803 [00:00<00:08, 89.43it/s]"
     ]
    },
    {
     "name": "stdout",
     "output_type": "stream",
     "text": [
      "# of papers to read:  699  Time elapse (min):  0.19191629886627198 ============================================\n",
      "The 1th episode\n",
      "============================================\n",
      "PMC003XXXXXX.xml\\PMC0032XXXXX\\PMC3298037.xml\n"
     ]
    },
    {
     "name": "stderr",
     "output_type": "stream",
     "text": [
      " 73%|███████▎  | 589/803 [00:13<00:05, 42.49it/s]\n",
      "  1%|          | 6/803 [00:00<00:15, 50.73it/s]"
     ]
    },
    {
     "name": "stdout",
     "output_type": "stream",
     "text": [
      "# of papers to read:  591  Time elapse (min):  0.42309505144755044 ============================================\n",
      "The 2th episode\n",
      "============================================\n",
      "PMC003XXXXXX.xml\\PMC0032XXXXX\\PMC3298037.xml\n"
     ]
    },
    {
     "name": "stderr",
     "output_type": "stream",
     "text": [
      " 62%|██████▏   | 496/803 [00:09<00:05, 53.65it/s]\n",
      "  1%|          | 6/803 [00:00<00:15, 51.55it/s]"
     ]
    },
    {
     "name": "stdout",
     "output_type": "stream",
     "text": [
      "# of papers to read:  498  Time elapse (min):  0.577707835038503 ============================================\n",
      "The 3th episode\n",
      "============================================\n",
      "PMC003XXXXXX.xml\\PMC0032XXXXX\\PMC3298037.xml\n"
     ]
    },
    {
     "name": "stderr",
     "output_type": "stream",
     "text": [
      " 54%|█████▍    | 432/803 [00:07<00:06, 57.82it/s]\n",
      "  1%|          | 7/803 [00:00<00:12, 63.02it/s]"
     ]
    },
    {
     "name": "stdout",
     "output_type": "stream",
     "text": [
      "# of papers to read:  434  Time elapse (min):  0.7024196346600851 ============================================\n",
      "The 4th episode\n",
      "============================================\n",
      "PMC003XXXXXX.xml\\PMC0032XXXXX\\PMC3298037.xml\n"
     ]
    },
    {
     "name": "stderr",
     "output_type": "stream",
     "text": [
      " 63%|██████▎   | 504/803 [00:08<00:04, 61.30it/s]\n",
      "  1%|          | 7/803 [00:00<00:11, 67.52it/s]"
     ]
    },
    {
     "name": "stdout",
     "output_type": "stream",
     "text": [
      "# of papers to read:  506  Time elapse (min):  0.8396966854731241 ============================================\n",
      "The 5th episode\n",
      "============================================\n",
      "PMC003XXXXXX.xml\\PMC0032XXXXX\\PMC3298037.xml\n"
     ]
    },
    {
     "name": "stderr",
     "output_type": "stream",
     "text": [
      " 51%|█████▏    | 413/803 [00:06<00:06, 62.21it/s]\n",
      "  1%|          | 7/803 [00:00<00:11, 67.33it/s]"
     ]
    },
    {
     "name": "stdout",
     "output_type": "stream",
     "text": [
      "# of papers to read:  415  Time elapse (min):  0.9505127310752869 ============================================\n",
      "The 6th episode\n",
      "============================================\n",
      "PMC003XXXXXX.xml\\PMC0032XXXXX\\PMC3298037.xml\n"
     ]
    },
    {
     "name": "stderr",
     "output_type": "stream",
     "text": [
      " 69%|██████▊   | 551/803 [00:08<00:03, 65.44it/s]\n",
      "  1%|          | 8/803 [00:00<00:09, 79.74it/s]"
     ]
    },
    {
     "name": "stdout",
     "output_type": "stream",
     "text": [
      "# of papers to read:  553  Time elapse (min):  1.0910159985224406 ============================================\n",
      "The 7th episode\n",
      "============================================\n",
      "PMC003XXXXXX.xml\\PMC0032XXXXX\\PMC3298037.xml\n"
     ]
    },
    {
     "name": "stderr",
     "output_type": "stream",
     "text": [
      " 78%|███████▊  | 627/803 [00:17<00:04, 35.53it/s]\n",
      "  1%|          | 8/803 [00:00<00:10, 76.13it/s]"
     ]
    },
    {
     "name": "stdout",
     "output_type": "stream",
     "text": [
      "# of papers to read:  629  Time elapse (min):  1.3853501359621683 ============================================\n",
      "The 8th episode\n",
      "============================================\n",
      "PMC003XXXXXX.xml\\PMC0032XXXXX\\PMC3298037.xml\n"
     ]
    },
    {
     "name": "stderr",
     "output_type": "stream",
     "text": [
      " 70%|███████   | 563/803 [00:09<00:03, 60.34it/s]\n",
      "  1%|          | 9/803 [00:00<00:09, 82.75it/s]"
     ]
    },
    {
     "name": "stdout",
     "output_type": "stream",
     "text": [
      "# of papers to read:  565  Time elapse (min):  1.5410610675811767 ============================================\n",
      "The 9th episode\n",
      "============================================\n",
      "PMC003XXXXXX.xml\\PMC0032XXXXX\\PMC3298037.xml\n"
     ]
    },
    {
     "name": "stderr",
     "output_type": "stream",
     "text": [
      " 66%|██████▌   | 529/803 [00:08<00:04, 62.10it/s]\n",
      "  1%|          | 8/803 [00:00<00:10, 79.09it/s]"
     ]
    },
    {
     "name": "stdout",
     "output_type": "stream",
     "text": [
      "# of papers to read:  531  Time elapse (min):  1.6832072337468464 ============================================\n",
      "The 10th episode\n",
      "============================================\n",
      "PMC003XXXXXX.xml\\PMC0032XXXXX\\PMC3298037.xml\n"
     ]
    },
    {
     "name": "stderr",
     "output_type": "stream",
     "text": [
      " 82%|████████▏ | 661/803 [00:10<00:02, 61.31it/s]\n",
      "  1%|          | 9/803 [00:00<00:09, 84.53it/s]"
     ]
    },
    {
     "name": "stdout",
     "output_type": "stream",
     "text": [
      "# of papers to read:  663  Time elapse (min):  1.8630415836970011 ============================================\n",
      "The 11th episode\n",
      "============================================\n",
      "PMC003XXXXXX.xml\\PMC0032XXXXX\\PMC3298037.xml\n"
     ]
    },
    {
     "name": "stderr",
     "output_type": "stream",
     "text": [
      " 58%|█████▊    | 468/803 [00:09<00:06, 49.54it/s]\n",
      "  1%|          | 9/803 [00:00<00:09, 82.52it/s]"
     ]
    },
    {
     "name": "stdout",
     "output_type": "stream",
     "text": [
      "# of papers to read:  470  Time elapse (min):  2.0206428209940595 ============================================\n",
      "The 12th episode\n",
      "============================================\n",
      "PMC003XXXXXX.xml\\PMC0032XXXXX\\PMC3298037.xml\n"
     ]
    },
    {
     "name": "stderr",
     "output_type": "stream",
     "text": [
      " 69%|██████▉   | 555/803 [00:09<00:04, 58.26it/s]\n",
      "  1%|          | 9/803 [00:00<00:09, 81.43it/s]"
     ]
    },
    {
     "name": "stdout",
     "output_type": "stream",
     "text": [
      "# of papers to read:  557  Time elapse (min):  2.1795700152715045 ============================================\n",
      "The 13th episode\n",
      "============================================\n",
      "PMC003XXXXXX.xml\\PMC0032XXXXX\\PMC3298037.xml\n"
     ]
    },
    {
     "name": "stderr",
     "output_type": "stream",
     "text": [
      " 71%|███████   | 572/803 [00:10<00:04, 54.96it/s]\n",
      "  1%|          | 9/803 [00:00<00:09, 87.23it/s]"
     ]
    },
    {
     "name": "stdout",
     "output_type": "stream",
     "text": [
      "# of papers to read:  574  Time elapse (min):  2.353228481610616 ============================================\n",
      "The 14th episode\n",
      "============================================\n",
      "PMC003XXXXXX.xml\\PMC0032XXXXX\\PMC3298037.xml\n"
     ]
    },
    {
     "name": "stderr",
     "output_type": "stream",
     "text": [
      " 62%|██████▏   | 495/803 [00:07<00:04, 61.88it/s]\n",
      "  1%|          | 8/803 [00:00<00:10, 78.85it/s]"
     ]
    },
    {
     "name": "stdout",
     "output_type": "stream",
     "text": [
      "# of papers to read:  497  Time elapse (min):  2.4867427349090576 ============================================\n",
      "The 15th episode\n",
      "============================================\n",
      "PMC003XXXXXX.xml\\PMC0032XXXXX\\PMC3298037.xml\n"
     ]
    },
    {
     "name": "stderr",
     "output_type": "stream",
     "text": [
      " 70%|███████   | 564/803 [00:10<00:04, 54.87it/s]\n",
      "  1%|          | 8/803 [00:00<00:10, 78.89it/s]"
     ]
    },
    {
     "name": "stdout",
     "output_type": "stream",
     "text": [
      "# of papers to read:  566  Time elapse (min):  2.658233352502187 ============================================\n",
      "The 16th episode\n",
      "============================================\n",
      "PMC003XXXXXX.xml\\PMC0032XXXXX\\PMC3298037.xml\n"
     ]
    },
    {
     "name": "stderr",
     "output_type": "stream",
     "text": [
      " 88%|████████▊ | 706/803 [00:11<00:01, 61.48it/s]\n",
      "  1%|          | 8/803 [00:00<00:10, 76.57it/s]"
     ]
    },
    {
     "name": "stdout",
     "output_type": "stream",
     "text": [
      "# of papers to read:  708  Time elapse (min):  2.849863648414612 ============================================\n",
      "The 17th episode\n",
      "============================================\n",
      "PMC003XXXXXX.xml\\PMC0032XXXXX\\PMC3298037.xml\n"
     ]
    },
    {
     "name": "stderr",
     "output_type": "stream",
     "text": [
      " 70%|███████   | 564/803 [00:10<00:04, 54.21it/s]\n",
      "  1%|          | 9/803 [00:00<00:09, 80.72it/s]"
     ]
    },
    {
     "name": "stdout",
     "output_type": "stream",
     "text": [
      "# of papers to read:  566  Time elapse (min):  3.0235653479894 ============================================\n",
      "The 18th episode\n",
      "============================================\n",
      "PMC003XXXXXX.xml\\PMC0032XXXXX\\PMC3298037.xml\n"
     ]
    },
    {
     "name": "stderr",
     "output_type": "stream",
     "text": [
      " 67%|██████▋   | 540/803 [00:08<00:04, 62.23it/s]\n",
      "  1%|          | 9/803 [00:00<00:09, 81.45it/s]"
     ]
    },
    {
     "name": "stdout",
     "output_type": "stream",
     "text": [
      "# of papers to read:  542  Time elapse (min):  3.1683806498845417 ============================================\n",
      "The 19th episode\n",
      "============================================\n",
      "PMC003XXXXXX.xml\\PMC0032XXXXX\\PMC3298037.xml\n"
     ]
    },
    {
     "name": "stderr",
     "output_type": "stream",
     "text": [
      " 83%|████████▎ | 669/803 [00:10<00:02, 64.59it/s]\n",
      "  1%|          | 8/803 [00:00<00:10, 74.15it/s]"
     ]
    },
    {
     "name": "stdout",
     "output_type": "stream",
     "text": [
      "# of papers to read:  671  Time elapse (min):  3.341165566444397 ============================================\n",
      "The 20th episode\n",
      "============================================\n",
      "PMC003XXXXXX.xml\\PMC0032XXXXX\\PMC3298037.xml\n"
     ]
    },
    {
     "name": "stderr",
     "output_type": "stream",
     "text": [
      " 74%|███████▍  | 594/803 [00:09<00:03, 61.78it/s]\n",
      "  1%|          | 9/803 [00:00<00:09, 82.87it/s]"
     ]
    },
    {
     "name": "stdout",
     "output_type": "stream",
     "text": [
      "# of papers to read:  596  Time elapse (min):  3.5015753149986266 ============================================\n",
      "The 21th episode\n",
      "============================================\n",
      "PMC003XXXXXX.xml\\PMC0032XXXXX\\PMC3298037.xml\n"
     ]
    },
    {
     "name": "stderr",
     "output_type": "stream",
     "text": [
      " 67%|██████▋   | 536/803 [00:08<00:04, 60.85it/s]\n",
      "  1%|          | 9/803 [00:00<00:09, 85.37it/s]"
     ]
    },
    {
     "name": "stdout",
     "output_type": "stream",
     "text": [
      "# of papers to read:  538  Time elapse (min):  3.6485568483670554 ============================================\n",
      "The 22th episode\n",
      "============================================\n",
      "PMC003XXXXXX.xml\\PMC0032XXXXX\\PMC3298037.xml\n"
     ]
    },
    {
     "name": "stderr",
     "output_type": "stream",
     "text": [
      " 72%|███████▏  | 578/803 [00:09<00:03, 58.94it/s]\n",
      "  1%|          | 6/803 [00:00<00:13, 59.30it/s]"
     ]
    },
    {
     "name": "stdout",
     "output_type": "stream",
     "text": [
      "# of papers to read:  580  Time elapse (min):  3.8121693690617877 ============================================\n",
      "The 23th episode\n",
      "============================================\n",
      "PMC003XXXXXX.xml\\PMC0032XXXXX\\PMC3298037.xml\n"
     ]
    },
    {
     "name": "stderr",
     "output_type": "stream",
     "text": [
      " 66%|██████▌   | 528/803 [00:10<00:05, 49.63it/s]\n",
      "  1%|          | 5/803 [00:00<00:21, 37.51it/s]"
     ]
    },
    {
     "name": "stdout",
     "output_type": "stream",
     "text": [
      "# of papers to read:  530  Time elapse (min):  3.9896826187769574 ============================================\n",
      "The 24th episode\n",
      "============================================\n",
      "PMC003XXXXXX.xml\\PMC0032XXXXX\\PMC3298037.xml\n"
     ]
    },
    {
     "name": "stderr",
     "output_type": "stream",
     "text": [
      " 75%|███████▍  | 601/803 [00:09<00:03, 63.79it/s]\n",
      "  1%|          | 8/803 [00:00<00:10, 78.19it/s]"
     ]
    },
    {
     "name": "stdout",
     "output_type": "stream",
     "text": [
      "# of papers to read:  603  Time elapse (min):  4.147080433368683 ============================================\n",
      "The 25th episode\n",
      "============================================\n",
      "PMC003XXXXXX.xml\\PMC0032XXXXX\\PMC3298037.xml\n"
     ]
    },
    {
     "name": "stderr",
     "output_type": "stream",
     "text": [
      " 61%|██████    | 491/803 [00:10<00:06, 48.82it/s]\n",
      "  1%|          | 8/803 [00:00<00:10, 76.49it/s]"
     ]
    },
    {
     "name": "stdout",
     "output_type": "stream",
     "text": [
      "# of papers to read:  493  Time elapse (min):  4.31487523317337 ============================================\n",
      "The 26th episode\n",
      "============================================\n",
      "PMC003XXXXXX.xml\\PMC0032XXXXX\\PMC3298037.xml\n"
     ]
    },
    {
     "name": "stderr",
     "output_type": "stream",
     "text": [
      " 76%|███████▌  | 609/803 [00:11<00:03, 55.25it/s]\n",
      "  1%|          | 8/803 [00:00<00:10, 79.45it/s]"
     ]
    },
    {
     "name": "stdout",
     "output_type": "stream",
     "text": [
      "# of papers to read:  611  Time elapse (min):  4.498773268858591 ============================================\n",
      "The 27th episode\n",
      "============================================\n",
      "PMC003XXXXXX.xml\\PMC0032XXXXX\\PMC3298037.xml\n"
     ]
    },
    {
     "name": "stderr",
     "output_type": "stream",
     "text": [
      " 67%|██████▋   | 538/803 [00:08<00:04, 62.77it/s]\n",
      "  1%|          | 9/803 [00:00<00:09, 87.59it/s]"
     ]
    },
    {
     "name": "stdout",
     "output_type": "stream",
     "text": [
      "# of papers to read:  540  Time elapse (min):  4.641794633865357 ============================================\n",
      "The 28th episode\n",
      "============================================\n",
      "PMC003XXXXXX.xml\\PMC0032XXXXX\\PMC3298037.xml\n"
     ]
    },
    {
     "name": "stderr",
     "output_type": "stream",
     "text": [
      " 77%|███████▋  | 619/803 [00:11<00:03, 55.70it/s]\n",
      "  1%|          | 8/803 [00:00<00:10, 77.06it/s]"
     ]
    },
    {
     "name": "stdout",
     "output_type": "stream",
     "text": [
      "# of papers to read:  621  Time elapse (min):  4.827174500624339 ============================================\n",
      "The 29th episode\n",
      "============================================\n",
      "PMC003XXXXXX.xml\\PMC0032XXXXX\\PMC3298037.xml\n"
     ]
    },
    {
     "name": "stderr",
     "output_type": "stream",
     "text": [
      " 51%|█████     | 406/803 [00:06<00:06, 59.90it/s]"
     ]
    },
    {
     "name": "stdout",
     "output_type": "stream",
     "text": [
      "# of papers to read:  408  Time elapse (min):  4.940307048956553 ============================================\n",
      "bortezomib   72.5\n",
      "gemcitabine   4.0\n",
      "tamoxifen   49.5\n",
      "dexamethasone   18.0\n",
      "doxorubicin   561.0\n"
     ]
    },
    {
     "name": "stderr",
     "output_type": "stream",
     "text": [
      "\n"
     ]
    }
   ],
   "source": [
    "agent = A_C(text_field, action_size=20, model_dir=model_dir_root+'rl_ta_20ACW_r_84_model.pkl')\n",
    "res2 = run(drugs[8:], agent, text_field, allfea_df, alllab_df,  train=False, action_size=20, A_C=True, weight=True, max_episode = 30,  hybrid=paper_list, log=False)\n",
    "for drug in res2:\n",
    "    print(drug, \" \", median(res2[drug]))"
   ]
  },
  {
   "cell_type": "code",
   "execution_count": 11,
   "metadata": {},
   "outputs": [
    {
     "data": {
      "text/plain": [
       "Text(0, 0.5, 'Number of Papers to read')"
      ]
     },
     "execution_count": 11,
     "metadata": {},
     "output_type": "execute_result"
    },
    {
     "data": {
      "image/png": "[encoded data removed]",
      "text/plain": [
       "<Figure size 1080x720 with 1 Axes>"
      ]
     },
     "metadata": {
      "needs_background": "light"
     },
     "output_type": "display_data"
    }
   ],
   "source": [
    "plt.figure(figsize=(15, 10))\n",
    "plt.boxplot([np.array(res2[drug]) for drug in res2], labels = [drug for drug in res2])\n",
    "plt.xticks(fontsize= 20)\n",
    "plt.yticks(fontsize= 20)\n",
    "plt.xlabel(\"Drugs\", fontsize= 20)\n",
    "plt.ylabel(\"Number of Papers to read\", fontsize= 20)"
   ]
  },
  {
   "cell_type": "code",
   "execution_count": null,
   "metadata": {},
   "outputs": [],
   "source": []
  }
 ],
 "metadata": {
  "kernelspec": {
   "display_name": "nn",
   "language": "python",
   "name": "nn"
  },
  "language_info": {
   "codemirror_mode": {
    "name": "ipython",
    "version": 3
   },
   "file_extension": ".py",
   "mimetype": "text/x-python",
   "name": "python",
   "nbconvert_exporter": "python",
   "pygments_lexer": "ipython3",
   "version": "3.7.7"
  }
 },
 "nbformat": 4,
 "nbformat_minor": 4
}
